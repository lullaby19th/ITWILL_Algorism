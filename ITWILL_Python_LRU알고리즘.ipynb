{
 "cells": [
  {
   "cell_type": "markdown",
   "metadata": {},
   "source": [
    "## LRU 알고리즘 ( Dec 16th 카카오 블라인드 코딩 시험 )\n",
    "\n",
    "\n",
    "오라클을 세계적인 기업으로 만들게 된 가장 중요한 원리중 하나가 LRU 알고리즘입니다. \n",
    "\n",
    "LRU 알고리즘은 데이터 베이스의 메모리 관리의 가장 중요한 원리입니다. \n",
    "\n",
    "이 LRU 알고리즘을 파이썬으로 구현하세요 ~~"
   ]
  },
  {
   "cell_type": "code",
   "execution_count": null,
   "metadata": {},
   "outputs": [],
   "source": [
    "\"\"\"\n",
    "\n",
    "수행결과 \n",
    "\n",
    "cacheProcess(['Jeju', 'Pangyo', 'Seoul', 'NewYork', 'LA', 'Jeju', 'Pangyo', \n",
    "\n",
    "              'Seoul', 'NewYork', 'LA'],3)\n",
    "\n",
    "cacheProcess(['Jeju', 'Pangyo', 'Seoul', 'Jeju', 'Pangyo','Seoul', 'Jeju', 'Pangyo',\n",
    "\n",
    "              'Seoul'],3)\n",
    "\n",
    "cacheProcess(['Jeju', 'Pangyo', 'Seoul', 'NewYork', 'LA', 'SanFrancisco', 'Seoul', \n",
    "\n",
    "              'Rome', 'Paris', 'Jeju', 'NewYork', 'Rome'],2)\n",
    "\n",
    "cacheProcess(['Jeju', 'Pangyo', 'Seoul', 'NewYork', 'LA', 'SanFrancisco', 'Seoul', \n",
    "\n",
    "              'Rome', 'Paris', 'Jeju', 'NewYork', 'Rome'],5)\n",
    "\n",
    "cacheProcess(['Jeju', 'Pangyo', 'NewYork', 'newyork'],2)\t\n",
    "\n",
    "cacheProcess(['Jeju', 'Pangyo', 'Seoul', 'NewYork', 'LA'],0)\n",
    "\n",
    "\n",
    "아래의 결과도 확인해 볼것\n",
    "\n",
    "cacheProcess(['Jeju', 'Jeju, 'Jeju'],3)  \n",
    "\n",
    "7\n",
    "\"\"\""
   ]
  },
  {
   "cell_type": "code",
   "execution_count": null,
   "metadata": {},
   "outputs": [],
   "source": [
    "#%% 일반적인 경우\n",
    "cities = [\"jeju\", \"Pangyo\", \"NewYork\", \"newyork\"]\n",
    "cashsize = 2\n",
    "c_t = [0 for i in range(cashsize)]\n",
    "\n",
    "sum = 0\n",
    "\n",
    "for i in range(len(cities)):\n",
    "    if cities[i].lower() in c_t:\n",
    "        c_t.remove(cities[i])\n",
    "        c_t.append(cities[i])\n",
    "        sum += 1\n",
    "        \n",
    "    else:\n",
    "        c_t.append(cities[i].lower())\n",
    "        del(c_t[0])\n",
    "        sum += 5\n",
    "        \n",
    "        \n",
    "print(sum)"
   ]
  },
  {
   "cell_type": "code",
   "execution_count": null,
   "metadata": {},
   "outputs": [],
   "source": [
    "#%% def로 써서 표현 (최대한 간결하게) .ver2\n",
    "def cacheProcess(cities,cashsize):\n",
    "    c_t = [0 for i in range(cashsize)] # cashsize를 임의의 리스트 형으로 나타냄\n",
    "    sum = 0\n",
    "    \n",
    "    for i in range(len(cities)):\n",
    "        if cities[i].lower() in c_t:\n",
    "            c_t.remove(cities[i])\n",
    "            c_t.append(cities[i])\n",
    "            sum += 1\n",
    "            \n",
    "        else:\n",
    "            c_t.append(cities[i].lower())\n",
    "            del(c_t[0])\n",
    "            sum += 5\n",
    "            \n",
    "    return sum"
   ]
  },
  {
   "cell_type": "code",
   "execution_count": 7,
   "metadata": {},
   "outputs": [
    {
     "name": "stdout",
     "output_type": "stream",
     "text": [
      "캐시 사이즈를 입력하시오2\n",
      "도시이름들을 입력하시오.J,P,N,n\n",
      "16\n"
     ]
    }
   ],
   "source": [
    "#%% def로 써서 표현 + 모든 조건 다 적용 .Final\n",
    "def cacheProcess(cities,cashsize):\n",
    "    \n",
    "    if len(cities) > 5:\n",
    "        return '입력한 도시숫자가 너무 많습니다.'\n",
    "    \n",
    "    if not 0<= cashsize <=30:\n",
    "        return 'cashsize가 너무 큽니다.'\n",
    "    \n",
    "    for i in cities:\n",
    "        if len(i) > 20:\n",
    "            return '도시이름이 너무 깁니다.'\n",
    "        \n",
    "    c_t = [0 for i in range(cashsize)] # cashsize를 임의의 리스트 형으로 나타냄\n",
    "    sum = 0\n",
    "    \n",
    "    for i in range(len(cities)):\n",
    "        if cities[i] in c_t:\n",
    "            c_t.remove(cities[i])\n",
    "            c_t.append(cities[i])\n",
    "            sum += 1\n",
    "            \n",
    "        else:\n",
    "            c_t.append(cities[i].lower())\n",
    "            del(c_t[0])\n",
    "            sum += 5\n",
    "            \n",
    "    return sum\n",
    " \n",
    "cashsize = int(input('캐시 사이즈를 입력하시오'))    \n",
    "\n",
    "cities = [ i.lower() for i in input('도시이름들을 입력하시오.').split(',') ]\n",
    "\n",
    "print(cacheProcess(cities,cashsize))"
   ]
  }
 ],
 "metadata": {
  "kernelspec": {
   "display_name": "Python 3",
   "language": "python",
   "name": "python3"
  },
  "language_info": {
   "codemirror_mode": {
    "name": "ipython",
    "version": 3
   },
   "file_extension": ".py",
   "mimetype": "text/x-python",
   "name": "python",
   "nbconvert_exporter": "python",
   "pygments_lexer": "ipython3",
   "version": "3.7.4"
  }
 },
 "nbformat": 4,
 "nbformat_minor": 2
}
