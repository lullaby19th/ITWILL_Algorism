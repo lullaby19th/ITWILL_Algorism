{
 "cells": [
  {
   "cell_type": "markdown",
   "metadata": {},
   "source": [
    "## 2017년 카카오 신입 공채 블라인드 시험문제 1번( 비밀지도 알고리즘: 난이도 하)"
   ]
  },
  {
   "cell_type": "markdown",
   "metadata": {},
   "source": [
    "링크 : https://programmers.co.kr/learn/courses/30/lessons/17681?language=python3"
   ]
  },
  {
   "cell_type": "markdown",
   "metadata": {},
   "source": [
    "## ■ 카카오 비밀지도 문제를 풀기 위한 기본 문제 7개들"
   ]
  },
  {
   "cell_type": "markdown",
   "metadata": {},
   "source": [
    "## ■ 1. Bin\n",
    "\n",
    "\" Bin -> 10진수를 2진수로 바꾸어주는 코드 \""
   ]
  },
  {
   "cell_type": "markdown",
   "metadata": {},
   "source": [
    "### 문제1. 숫자 9를 이진수로 변경하시오!"
   ]
  },
  {
   "cell_type": "code",
   "execution_count": 1,
   "metadata": {
    "scrolled": false
   },
   "outputs": [
    {
     "name": "stdout",
     "output_type": "stream",
     "text": [
      "0b1001\n",
      "<class 'str'>\n",
      "1001\n"
     ]
    }
   ],
   "source": [
    "print(bin(9))\n",
    "print(type(bin(9))) # type은 str로 결과값은 문자열임.\n",
    "print(bin(9)[2:]) # 0b 부분을 잘라내기 위해서 [2:]를 사용한다."
   ]
  },
  {
   "cell_type": "markdown",
   "metadata": {},
   "source": [
    "## ■ 2. format 함수\n",
    "\n",
    "\" 이 또한 10진수를 2진수로 바꾸어주는 코드 \""
   ]
  },
  {
   "cell_type": "code",
   "execution_count": 2,
   "metadata": {},
   "outputs": [
    {
     "name": "stdout",
     "output_type": "stream",
     "text": [
      "1001\n",
      "<class 'str'>\n"
     ]
    }
   ],
   "source": [
    "result = format(9,'b') # 9는 '변수명'자리 (int형만 가능), 'b' = binary(2진법)\n",
    "print(result) # 1001로 0b없이 깔끔하게 나옴.\n",
    "print(type(result)) # type은 str로 결과값은 문자열임."
   ]
  },
  {
   "cell_type": "markdown",
   "metadata": {},
   "source": [
    "## ■ 3. rjust 함수(오른쪽 정렬)\n",
    "\n",
    "\" 현재 문제에서는 '1001' 4자리 이진수를 '01001' 5자리 이진수로 만들어 내기위하여 사용된다. \""
   ]
  },
  {
   "cell_type": "code",
   "execution_count": 5,
   "metadata": {},
   "outputs": [
    {
     "name": "stdout",
     "output_type": "stream",
     "text": [
      "01001\n",
      "0001011\n"
     ]
    }
   ],
   "source": [
    "print(bin(9)[2:].rjust(5,'0')) \n",
    "\n",
    "# rjust = 오른쪽 정렬\n",
    "# 5 = 문자열크기를 '5'로 정함\n",
    "# 나머지자리는 0으로 채움.\n",
    "\n",
    "print(bin(11)[2:].rjust(7,'0'))"
   ]
  },
  {
   "cell_type": "markdown",
   "metadata": {},
   "source": [
    "## ■ 4. zfill 함수(파이썬 문자열 앞으로 0채우기)\n",
    "\n",
    "\" 현재 문제에서는 '1001' 4자리 이진수를 '01001' 5자리 이진수로 만들어 내기위하여 사용된다. \""
   ]
  },
  {
   "cell_type": "code",
   "execution_count": null,
   "metadata": {},
   "outputs": [],
   "source": [
    "result = bin(9)[2:]\n",
    "\n",
    "print(result)\n",
    "print(result.zfill(5))"
   ]
  },
  {
   "cell_type": "markdown",
   "metadata": {},
   "source": [
    "### 문제2. (카카오 비밀지도 문제) 숫자 30을 이진수로 아래와 같이 출력하시오! "
   ]
  },
  {
   "cell_type": "markdown",
   "metadata": {},
   "source": [
    "n = 5  \n",
    "a = bin(9)  \n",
    "b = bin(30)  \n",
    "\n",
    "print(a,b) # 0b1001, 0b11110  \n",
    "print(change(a,n), change(b,n)) # 01001, 11110"
   ]
  },
  {
   "cell_type": "code",
   "execution_count": 6,
   "metadata": {},
   "outputs": [
    {
     "name": "stdout",
     "output_type": "stream",
     "text": [
      "0b1001 0b11110\n",
      "01001 11110\n"
     ]
    }
   ],
   "source": [
    "# rjust로 풀기\n",
    "\n",
    "def change(x,n):\n",
    "    return x[2:].rjust(n,'0')\n",
    "\n",
    "n = 5\n",
    "a = bin(9)\n",
    "b = bin(30)\n",
    "\n",
    "print(a,b) # 0b1001, 0b11110\n",
    "print(change(a,n), change(b,n)) # 01001, 11110"
   ]
  },
  {
   "cell_type": "code",
   "execution_count": null,
   "metadata": {},
   "outputs": [],
   "source": [
    "# zfill로 풀기\n",
    "\n",
    "def change(x,n):\n",
    "    return x[2:].zfill(n)\n",
    "\n",
    "n = 5\n",
    "a = bin(9)\n",
    "b = bin(30)\n",
    "\n",
    "print(a,b) # 0b1001, 0b11110\n",
    "print(change(a,n), change(b,n)) # 01001, 11110"
   ]
  },
  {
   "cell_type": "markdown",
   "metadata": {},
   "source": [
    "### 문제5. 위의 만든 change 함수를 이용해서 아래의 두개의 리스트를 가지고 아래의 결과를 출력하시오!"
   ]
  },
  {
   "cell_type": "markdown",
   "metadata": {},
   "source": [
    "n = 5  \n",
    "arr1 = [9,20,28,18,11]  \n",
    "arr2 = [30,1,21,17,28]  \n",
    "\n",
    "결과  \n",
    "01001, 11110  \n",
    "10100, 00001  \n",
    "11100, 10101  \n",
    "10010, 10001  \n",
    "01011, 11100  "
   ]
  },
  {
   "cell_type": "code",
   "execution_count": null,
   "metadata": {},
   "outputs": [],
   "source": [
    "def change(x,n):\n",
    "    return x[2:].rjust(n,'0')\n",
    "\n",
    "n = 5\n",
    "arr1 = [9,20,28,18,11]\n",
    "arr2 = [30,1,21,17,28]\n",
    "\n",
    "for i,j in zip(arr1,arr2):\n",
    "    print (change(bin(i),5), change(bin(j),5))"
   ]
  },
  {
   "cell_type": "markdown",
   "metadata": {},
   "source": [
    "## ■ 문자열 합치기"
   ]
  },
  {
   "cell_type": "code",
   "execution_count": 22,
   "metadata": {},
   "outputs": [
    {
     "name": "stdout",
     "output_type": "stream",
     "text": [
      "## #\n"
     ]
    }
   ],
   "source": [
    "str1 = '#'\n",
    "str2 = ' '\n",
    "\n",
    "print(str1+str1+str2+str1)"
   ]
  }
 ],
 "metadata": {
  "kernelspec": {
   "display_name": "Python 3",
   "language": "python",
   "name": "python3"
  },
  "language_info": {
   "codemirror_mode": {
    "name": "ipython",
    "version": 3
   },
   "file_extension": ".py",
   "mimetype": "text/x-python",
   "name": "python",
   "nbconvert_exporter": "python",
   "pygments_lexer": "ipython3",
   "version": "3.7.4"
  }
 },
 "nbformat": 4,
 "nbformat_minor": 2
}
