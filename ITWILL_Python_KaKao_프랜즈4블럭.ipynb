{
 "cells": [
  {
   "cell_type": "markdown",
   "metadata": {},
   "source": [
    "## ■ KaKao 프랜즈 4블럭 알고리즘 (Jan 6th)"
   ]
  },
  {
   "cell_type": "markdown",
   "metadata": {},
   "source": [
    "### ■ 문제 설명 : https://jay-ji.tistory.com/\n",
    "### ■ Test 및 정답 확인 : https://programmers.co.kr/learn/courses/30/lessons/17679?language=python3\n",
    "\n",
    "#### 프로그래머스 시간제한 : 10.0초 (10000ms 가 10초) \n",
    "#### 런타임에러 : 이것도 코드 잘못짠거임(시간초과면 시간초과라고 뜸)\n",
    "#### 시간 걸리는 주원인 : for문 & 잦은 함수 호출"
   ]
  },
  {
   "cell_type": "markdown",
   "metadata": {},
   "source": [
    "### ● Step1: 문제에서 주어진 board 1차원 배열을 2차원으로 만들어보기!\n",
    "\n",
    "#### ['CCBDE', 'AAADE', 'AAABF', 'CCBBE']\n",
    "\n",
    "__CCBDE  \n",
    "AAADE  \n",
    "AAABF  \n",
    "CCBBE__  "
   ]
  },
  {
   "cell_type": "code",
   "execution_count": 1,
   "metadata": {},
   "outputs": [
    {
     "name": "stdout",
     "output_type": "stream",
     "text": [
      "[['C', 'C', 'B', 'D', 'E'], ['A', 'A', 'A', 'D', 'E'], ['A', 'A', 'A', 'B', 'F'], ['C', 'C', 'B', 'B', 'E']]\n"
     ]
    }
   ],
   "source": [
    "x = ['CCBDE', 'AAADE', 'AAABF', 'CCBBE']\n",
    "\n",
    "for i in range(len(x)):\n",
    "    x[i] = list(x[i])\n",
    "\n",
    "print(x)"
   ]
  },
  {
   "cell_type": "code",
   "execution_count": 5,
   "metadata": {},
   "outputs": [
    {
     "name": "stdout",
     "output_type": "stream",
     "text": [
      "[['C', 'C', 'B', 'D', 'E'], ['A', 'A', 'A', 'D', 'E'], ['A', 'A', 'A', 'B', 'F'], ['C', 'C', 'B', 'B', 'E']]\n"
     ]
    }
   ],
   "source": [
    "# def를 써서 표현\n",
    "\n",
    "def divide_block(x):\n",
    "\n",
    "    for i in range(len(x)):\n",
    "\n",
    "        x[i] = list(x[i])\n",
    "\n",
    "    return x\n",
    "\n",
    "x = ['CCBDE', 'AAADE', 'AAABF', 'CCBBE']\n",
    "print(divide_block(x))"
   ]
  },
  {
   "cell_type": "markdown",
   "metadata": {},
   "source": [
    "### ● Step2: Board 판 만들기\n",
    "\n",
    "__\" 몇개의 블록이 사라지는지 계산하기 위해서 만드는 코드 (안만들어도 풀수는 있음) \"__\n",
    "\n",
    "Board = [[0,0,0,0,0], [0,0,0,0,0], [0,0,0,0,0], [0,0,0,0,0], [0,0,0,0,0]]"
   ]
  },
  {
   "cell_type": "code",
   "execution_count": 3,
   "metadata": {},
   "outputs": [
    {
     "name": "stdout",
     "output_type": "stream",
     "text": [
      "[[0, 0, 0, 0, 0], [0, 0, 0, 0, 0], [0, 0, 0, 0, 0], [0, 0, 0, 0, 0]]\n"
     ]
    }
   ],
   "source": [
    "# def를 써서 표현\n",
    "def zero_block(m,n):\n",
    "    countBoard = []\n",
    "    for i in range(m):\n",
    "        countBoard.append([0 for i in range(n)])\n",
    "    return countBoard\n",
    "\n",
    "print(zero_block(4,5))"
   ]
  },
  {
   "cell_type": "markdown",
   "metadata": {},
   "source": [
    "### ● Step3: 2차원으로 변환한 리스트에서 4개의 원소가 같은 것을 찾는 기능\n",
    "\n",
    "__CCBDE  \n",
    "AAADE  \n",
    "AAABF  \n",
    "CCBBE__  \n",
    "\n",
    "__\" 현재 A가 6개가 같은 상태 \"__"
   ]
  },
  {
   "cell_type": "markdown",
   "metadata": {},
   "source": [
    "### ※ 설명 : 4개의 블럭이 같은 위치의 board 리스트의 원소를 1로 변경해준다."
   ]
  },
  {
   "cell_type": "code",
   "execution_count": null,
   "metadata": {},
   "outputs": [],
   "source": [
    "def match(m,n,x):\n",
    "\n",
    "    a = divide_block(x) # 문제에서 주어진 board 변수를 2차원으로 바꾸는 divide_block 코드\n",
    "    b = zero_block(m,n)  # board판을 만들어 주는 zero_block 함수\n",
    "\n",
    "    for i in range(m-1):\n",
    "        for j in range(n-1):\n",
    "            if a[i][j] == a[i+1][j] == a[i][j+1] == a[i+1][j+1] and a[i][j] != 0 and a[i][j+1] != 0 and a[i+1][j] != 0 and a[i+1][j+1] != 0:\n",
    "                # space_0 함수로 인하여 바꾸어진 0이 4개가 같아도 1로 바뀌기 때문에 조건을 추가로 붙여주어야됨.\n",
    "                \n",
    "                b[i][j], b[i][j+1], b[i+1][j], b[i+1][j+1] = 1,1,1,1            \n",
    "\n",
    "    return b"
   ]
  },
  {
   "cell_type": "markdown",
   "metadata": {},
   "source": [
    "### ● Step4 : board 리스트의 원소중 1이 몇개였는지 count 하기.\n",
    "\n",
    "__\" step3에서 결과로 나온 board 리스트에서 1을 count하면 된다. \"__\n",
    "\n",
    "__\" 이 코드로 인하여 사라진 블록들의 숫자를 셀 수있게 된다.\"__ "
   ]
  },
  {
   "cell_type": "code",
   "execution_count": 9,
   "metadata": {},
   "outputs": [
    {
     "name": "stdout",
     "output_type": "stream",
     "text": [
      "[[0, 0, 0, 0, 0], [1, 1, 1, 0, 0], [1, 1, 1, 0, 0], [0, 0, 0, 0, 0]]\n",
      "6\n"
     ]
    }
   ],
   "source": [
    "def count_1(m,n,x):\n",
    "    \n",
    "    countboard = match(m,n,x) # [[0, 0, 0, 0, 0], [1, 1, 1, 0, 0], [1, 1, 1, 0, 0], [0, 0, 0, 0, 0]]\n",
    "    print(countboard)\n",
    "    cnt = 0\n",
    "    \n",
    "    for i in countboard:\n",
    "        num = i.count(1)\n",
    "        cnt += num\n",
    "\n",
    "    return cnt\n",
    "\n",
    "m = 4\n",
    "n = 5\n",
    "x = ['CCBDE', 'AAADE', 'AAABF', 'CCBBE']\n",
    "print(count_1(m,n,x))"
   ]
  },
  {
   "cell_type": "markdown",
   "metadata": {},
   "source": [
    "### ● Step5 : 게임판 x리스트의 같은 4자리의 원소들을 표시하기( 무엇으로 표시하던 상관은 없다.)\n",
    "\n",
    "__CCBDE  \n",
    "AAADE  \n",
    "AAABF  \n",
    "CCBBE__  \n",
    "\n",
    "↓↓↓\n",
    "\n",
    "__CCBDE  \n",
    "000DE  \n",
    "000BF  \n",
    "CCBBF__  "
   ]
  },
  {
   "cell_type": "code",
   "execution_count": 11,
   "metadata": {},
   "outputs": [
    {
     "name": "stdout",
     "output_type": "stream",
     "text": [
      "[['C', 'C', 'B', 'D', 'E'], [0, 0, 0, 'D', 'E'], [0, 0, 0, 'B', 'F'], ['C', 'C', 'B', 'B', 'E']]\n"
     ]
    }
   ],
   "source": [
    "def space_0(m,n,x):\n",
    "    \n",
    "    a = divide_block(x) # [['C', 'C', 'B', 'D', 'E'], ['A', 'A', 'A', 'D', 'E'], ['A', 'A', 'A', 'B', 'F'], ['C', 'C', 'B', 'B', 'E']]\n",
    "    board = match(m,n,x) # [[0, 0, 0, 0, 0], [1, 1, 1, 0, 0], [1, 1, 1, 0, 0], [0, 0, 0, 0, 0]]\n",
    "\n",
    "    for i in range(m):\n",
    "        for j in range(n):\n",
    "            if board[i][j] == 1:\n",
    "                a[i][j] = 0\n",
    "\n",
    "    return a\n",
    "\n",
    "m = 4\n",
    "n = 5\n",
    "x = ['CCBDE', 'AAADE', 'AAABF', 'CCBBE']\n",
    "print(space_0(m,n,x))"
   ]
  },
  {
   "cell_type": "markdown",
   "metadata": {},
   "source": [
    "### ● Step6 : 숫자 0자리와 숫자 0위의 원소를 바꾸는 기능\n",
    "\n",
    "__CCBDE  \n",
    "000DE  \n",
    "000BF  \n",
    "CCBBF__  \n",
    "\n",
    "↓↓↓\n",
    "\n",
    "__000DE  \n",
    "CCBDE  \n",
    "000BF  \n",
    "CCBBF__\n",
    "\n",
    "↓↓↓\n",
    "\n",
    "__000DE  \n",
    "000DE  \n",
    "CCBBE  \n",
    "CCBBF__"
   ]
  },
  {
   "cell_type": "code",
   "execution_count": null,
   "metadata": {},
   "outputs": [],
   "source": [
    "def exchange(m,n,x):\n",
    "    a = space_0(m,n,x) # [['C', 'C', 'B', 'D', 'E'], [0, 0, 0, 'D', 'E'], [0, 0, 0, 'B', 'F'], ['C', 'C', 'B', 'B', 'E']]\n",
    "    for z in range(m-1): # 아무리 숫자0자리와 숫자 0위의 원소를 많이 바꾼다 하더라도 최대 (m-1) 번 바꾼다.\n",
    "        for i in range(m-1):\n",
    "            for j in range(n):\n",
    "                if a[i+1][j] == 0:\n",
    "                    a[i][j], a[i+1][j] = a[i+1][j], a[i][j]\n",
    "\n",
    "    return a"
   ]
  },
  {
   "cell_type": "markdown",
   "metadata": {},
   "source": [
    "##  ■ 정답 Full Code"
   ]
  },
  {
   "cell_type": "code",
   "execution_count": null,
   "metadata": {},
   "outputs": [],
   "source": [
    "def divide_2(board):\n",
    "\n",
    "    for i in range(len(board)):\n",
    "        board[i] = list(board[i])\n",
    "\n",
    "    return board\n",
    "\n",
    "\n",
    "\n",
    "def zero_block(m,n):\n",
    "\n",
    "    zero = []\n",
    "\n",
    "    for i in range(m):\n",
    "        zero.append([0 for i in range(n)])\n",
    "\n",
    "    return zero\n",
    "\n",
    "\n",
    "\n",
    "def match(m,n,board):\n",
    "\n",
    "    a = divide_2(board)\n",
    "    b = zero_block(m,n)  \n",
    "\n",
    "    for i in range(m-1):\n",
    "\n",
    "        for j in range(n-1):\n",
    "\n",
    "            if a[i][j] == a[i+1][j] == a[i][j+1] == a[i+1][j+1] and a[i][j] != 0 and a[i][j+1] != 0 and a[i+1][j] != 0 and a[i+1][j+1] != 0:\n",
    "\n",
    "                b[i][j], b[i][j+1], b[i+1][j], b[i+1][j+1] = 1,1,1,1            \n",
    "\n",
    "    return b\n",
    "\n",
    "\n",
    "def count_1(m,n,board):\n",
    "\n",
    "    tmp = match(m,n,board)\n",
    "    cnt = 0\n",
    "\n",
    "    for i in tmp:\n",
    "\n",
    "        num = i.count(1)\n",
    "        cnt += num\n",
    "\n",
    "    return cnt\n",
    "\n",
    "    \n",
    "    \n",
    "def change_0(m,n,board):\n",
    "\n",
    "    a = divide_2(board)\n",
    "    b = match(m,n,board)\n",
    "\n",
    "    for i in range(m):\n",
    "        for j in range(n):\n",
    "            \n",
    "            if b[i][j] == 1:\n",
    "                a[i][j] = 0\n",
    "\n",
    "    return a\n",
    "\n",
    "\n",
    "\n",
    "\n",
    "def exchange(m,n,board):\n",
    "\n",
    "    a = change_0(m,n,board)\n",
    "\n",
    "    for z in range(m-1):\n",
    "        for i in range(m-1):\n",
    "            for j in range(n):\n",
    "\n",
    "                if a[i+1][j] == 0:\n",
    "                    a[i][j], a[i+1][j] = a[i+1][j], a[i][j]\n",
    "\n",
    "    return a\n",
    "\n",
    "\n",
    "def solution(m,n,board):\n",
    "\n",
    "    answer = 0\n",
    "\n",
    "    while True:\n",
    "        if count_1(m,n,board) == 0:\n",
    "            break\n",
    "\n",
    "        else:\n",
    "\n",
    "            tmp1 = count_1(m,n,board)\n",
    "            tmp2 = exchange(m,n,board)\n",
    "            answer += tmp1\n",
    "            board = tmp2    \n",
    "\n",
    "    return answer"
   ]
  },
  {
   "cell_type": "code",
   "execution_count": null,
   "metadata": {},
   "outputs": [],
   "source": [
    "# devide_2 & zero_block 생략하고 def 하나로 끝내기.ver2\n",
    "\n",
    "def solution(m,n,board):\n",
    "    import copy\n",
    "\n",
    "    for i in range(len(board)):\n",
    "        board[i] = list(board[i])\n",
    "    \n",
    "    answer = 0\n",
    "    while True:\n",
    "        tmp = copy.deepcopy(board)\n",
    "        \n",
    "        for i in range(m-1):\n",
    "            for j in range(n-1):\n",
    "                if board[i][j].lower() == board[i][j+1].lower() \\\n",
    "                == board[i+1][j].lower() == board[i+1][j+1].lower():\n",
    "    \n",
    "                    board[i][j] = board[i][j].lower()\n",
    "                    board[i][j+1] = board[i][j+1].lower()\n",
    "                    board[i+1][j] = board[i+1][j].lower()\n",
    "                    board[i+1][j+1] = board[i+1][j+1].lower()\n",
    "        \n",
    "        for i in range(m):\n",
    "            for j in range(n):\n",
    "                if ord(board[i][j]) > ord('Z'):\n",
    "                    answer += 1\n",
    "                    board[i][j] = '0'\n",
    "                    \n",
    "        for k in range(m-1):\n",
    "            for i in range(m-1):\n",
    "                for j in range(n):\n",
    "                    if board[i+1][j] == '0':\n",
    "                        board[i][j], board[i+1][j] = board[i+1][j], board[i][j]\n",
    "    \n",
    "        if tmp == board:\n",
    "            return answer"
   ]
  },
  {
   "cell_type": "code",
   "execution_count": null,
   "metadata": {},
   "outputs": [],
   "source": [
    "# import Copy 부분 참고\n",
    "def solution(m, n, board) : \n",
    "\n",
    "    import copy \n",
    "\n",
    "    x = list(map(lambda x: list(x), board))\n",
    "\n",
    "    cnt = 0\n",
    "\n",
    "    while True : \n",
    "\n",
    "        X = copy.deepcopy(x)\n",
    "\n",
    "        for i in range(m-1) :\n",
    "\n",
    "            for j in range(n-1) :\n",
    "\n",
    "                if x[i][j].upper() == x[i][j+1].upper() == x[i+1][j].upper() == x[i+1][j+1].upper() :\n",
    "\n",
    "                    x[i][j] = x[i][j].lower()\n",
    "\n",
    "                    x[i][j+1] = x[i][j+1].lower()\n",
    "\n",
    "                    x[i+1][j] = x[i+1][j].lower()\n",
    "\n",
    "                    x[i+1][j+1] = x[i+1][j+1].lower()\n",
    "\n",
    "\n",
    "\n",
    "        for i in range(m) :\n",
    "            for j in range(n) :\n",
    "                if x[i][j] != x[i][j].upper() :\n",
    "                    cnt += 1\n",
    "                    x[i][j] = ''\n",
    "                    x[i][j], x[i-1][j] = x[i-1][j], x[i][j]\n",
    "\n",
    "\n",
    "        for i in range(m-1) :\n",
    "            for j in range(n) :\n",
    "                if x[i+1][j] == '' :\n",
    "                    x[i][j], x[i+1][j] = x[i+1][j], x[i][j]\n",
    "\n",
    "        if X == x :\n",
    "            return cnt"
   ]
  }
 ],
 "metadata": {
  "kernelspec": {
   "display_name": "Python 3",
   "language": "python",
   "name": "python3"
  },
  "language_info": {
   "codemirror_mode": {
    "name": "ipython",
    "version": 3
   },
   "file_extension": ".py",
   "mimetype": "text/x-python",
   "name": "python",
   "nbconvert_exporter": "python",
   "pygments_lexer": "ipython3",
   "version": "3.7.4"
  }
 },
 "nbformat": 4,
 "nbformat_minor": 2
}
