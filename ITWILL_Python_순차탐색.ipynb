{
 "cells": [
  {
   "cell_type": "markdown",
   "metadata": {},
   "source": [
    "## ■ 순차탐색 알고리즘(week2)\n",
    "\n",
    "### ※ 순차탐색이란(선형탐색)\n",
    "\n",
    "주어진 데이터를 처음부터 차례대로 비교하면서 찾는 방법  \n",
    "탐색이 한쪽방향으로 일어나므로 __선형탐색__이라고 부르기도 한다.\n",
    "\n",
    "But, 순차탐색의 경우 데이터가 많아지면 시간도 많이걸리고 효율도 떨어지는 단점이있다."
   ]
  },
  {
   "cell_type": "markdown",
   "metadata": {},
   "source": [
    "## 문제. 순차 탐색 알고리즘을 구현하시오!\n",
    "\n",
    "   몇개의 배열변수를 만들건가요 ?  10000  \n",
    "   순차탐색으로 배열에서 검색할 숫자가 무엇인가요 ?  67  \n",
    "\n",
    "결과 :  \n",
    "    10000 개의 배열이 생성되었습니다.  \n",
    "    배열에 67 숫자가 검색이 됩니다  "
   ]
  },
  {
   "cell_type": "code",
   "execution_count": null,
   "metadata": {},
   "outputs": [],
   "source": [
    "#%% Step1: 알고리즘 day2 이진검색 list개수 홀수일때\n",
    "a = [1,7,11,12,14,23,33,47,51,64,67,77,139,672,871]\n",
    "b = int(input('검색할 숫자 입력하세요~'))\n",
    "print(type(a))\n",
    "\n",
    "\n",
    "for i in range(len(a)):\n",
    "    if b != a[i]:\n",
    "        continue\n",
    "    elif b == a[i]:\n",
    "        c = a[i]\n",
    "        break\n",
    "        \n",
    "\n",
    "\n",
    "print(c)"
   ]
  },
  {
   "cell_type": "code",
   "execution_count": null,
   "metadata": {},
   "outputs": [],
   "source": [
    "#%% def를 써서 만들어보기\n",
    "def linear_search(a,b):\n",
    "    try:\n",
    "        for i in range(len(a)):\n",
    "            if b != a[i]:\n",
    "                continue\n",
    "            elif b == a[i]:\n",
    "                c = a[i]\n",
    "                break\n",
    "                \n",
    "        \n",
    "        \n",
    "        return(c)\n",
    "    \n",
    "    except:\n",
    "        return '해당 숫자는 없습니다.'\n",
    "\n",
    "a = [1,7,11,12,14,23,33,47,51,64,67,77,139,672,871]\n",
    "b = int(input('검색할 숫자 입력하세요~'))\n",
    "\n",
    "print(linear_search(a,b))"
   ]
  },
  {
   "cell_type": "code",
   "execution_count": null,
   "metadata": {},
   "outputs": [],
   "source": [
    "#%% Final Summary\n",
    "def linear_search():\n",
    "    try:\n",
    "        import random\n",
    "        x = int(input('몇개의 배열변수를 만들건가요?'))\n",
    "        b = int(input('검색할 숫자 입력하세요~'))\n",
    "        \n",
    "        a = [random.randint(0,x) for i in range(x)]\n",
    "        \n",
    "        for i in range(len(a)):\n",
    "            if b != a[i]:\n",
    "                continue\n",
    "            elif b == a[i]:\n",
    "                c = a[i]\n",
    "                break\n",
    "                \n",
    "        \n",
    "        result = ('배열에 %d 숫자가 검색이 됩니다.' %c)\n",
    "        return(result)\n",
    "    \n",
    "    except:\n",
    "        return '해당 숫자는 없습니다.'\n",
    "\n",
    "\n",
    "print(linear_search())"
   ]
  }
 ],
 "metadata": {
  "kernelspec": {
   "display_name": "Python 3",
   "language": "python",
   "name": "python3"
  },
  "language_info": {
   "codemirror_mode": {
    "name": "ipython",
    "version": 3
   },
   "file_extension": ".py",
   "mimetype": "text/x-python",
   "name": "python",
   "nbconvert_exporter": "python",
   "pygments_lexer": "ipython3",
   "version": "3.7.4"
  }
 },
 "nbformat": 4,
 "nbformat_minor": 2
}
