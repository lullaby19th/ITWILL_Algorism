{
 "cells": [
  {
   "cell_type": "markdown",
   "metadata": {},
   "source": [
    "## ■ 다트게임 (9주차// Jan.13th)"
   ]
  },
  {
   "cell_type": "markdown",
   "metadata": {},
   "source": [
    "## ● 문제1. input 과 split를 이용하시오!"
   ]
  },
  {
   "cell_type": "code",
   "execution_count": null,
   "metadata": {},
   "outputs": [],
   "source": [
    "res = input(\"입력 : \")\n",
    "print(res.split())  # 띄어쓰기를 기준으로 리스트에 요소가 들어간다."
   ]
  },
  {
   "cell_type": "markdown",
   "metadata": {},
   "source": [
    "## ● 문제2. 공백을 중간에 넣지 않고 리스트화 되게 하기"
   ]
  },
  {
   "cell_type": "code",
   "execution_count": 1,
   "metadata": {},
   "outputs": [
    {
     "name": "stdout",
     "output_type": "stream",
     "text": [
      "입력하시오 ~1234\n",
      "['1', '2', '3', '4']\n"
     ]
    }
   ],
   "source": [
    "a = input('입력하시오 ~')\n",
    "\n",
    "list_a = [i for i in a]\n",
    "print(list_a)"
   ]
  },
  {
   "cell_type": "markdown",
   "metadata": {},
   "source": [
    "## ● 문제3. 문제2번 코드 재확인."
   ]
  },
  {
   "cell_type": "code",
   "execution_count": 3,
   "metadata": {},
   "outputs": [
    {
     "name": "stdout",
     "output_type": "stream",
     "text": [
      "입력하시오 ~1S2D*3T\n",
      "['1', 'S', '2', 'D', '*', '3', 'T']\n"
     ]
    }
   ],
   "source": [
    "a = input('입력하시오 ~')\n",
    "\n",
    "list_a = [i for i in a]\n",
    "print(list_a)"
   ]
  },
  {
   "cell_type": "markdown",
   "metadata": {},
   "source": [
    "## ● 문제4. 아래와 같이 실행 되게 하시오!(리스트 변수 3개 생성)"
   ]
  },
  {
   "cell_type": "code",
   "execution_count": 4,
   "metadata": {},
   "outputs": [
    {
     "name": "stdout",
     "output_type": "stream",
     "text": [
      "['0', '1', '2', '3', '4', '5', '6', '7', '8', '9', '10']\n",
      "['S', 'D', 'T']\n",
      "['*', '#']\n"
     ]
    }
   ],
   "source": [
    "num = [str(i) for i in range(11)]\n",
    "bonus = ['S', 'D', 'T']\n",
    "option = ['*', '#']\n",
    "\n",
    "print(num)\n",
    "print(bonus)\n",
    "print(option)"
   ]
  },
  {
   "cell_type": "markdown",
   "metadata": {},
   "source": [
    "## ● 문제5. 1S2D3T에서 1,2,3 숫자만 출력해보기"
   ]
  },
  {
   "cell_type": "code",
   "execution_count": 5,
   "metadata": {},
   "outputs": [
    {
     "name": "stdout",
     "output_type": "stream",
     "text": [
      "입력 : 1s2d3t\n",
      "['1', '2', '3']\n"
     ]
    }
   ],
   "source": [
    "num = ['0', '1', '2', '3', '4', '5', '6', '7', '8', '9', '10']\n",
    "bonus = ['S', 'D', 'T']\n",
    "option = ['*', '#']\n",
    "\n",
    "\n",
    "res = input(\"입력 : \")\n",
    "a = [i for i in res if i in num]\n",
    "\n",
    "print(a)"
   ]
  },
  {
   "cell_type": "markdown",
   "metadata": {},
   "source": [
    "## ● 문제6. bonus 리스트에 S의 인덱스 번호를 출력하시오!"
   ]
  },
  {
   "cell_type": "code",
   "execution_count": 6,
   "metadata": {},
   "outputs": [
    {
     "name": "stdout",
     "output_type": "stream",
     "text": [
      "0\n"
     ]
    }
   ],
   "source": [
    "bonus = ['S', 'D', 'T']\n",
    "\n",
    "\n",
    "print(bonus.index('S'))"
   ]
  },
  {
   "cell_type": "markdown",
   "metadata": {},
   "source": [
    "## ● 문제7. bonus 리스트에서 S의 인덱스 번호를 1로 출력하게 하고 D는 2로 출력하게 하고 T는 3으로 출력되게 하시오!"
   ]
  },
  {
   "cell_type": "code",
   "execution_count": 8,
   "metadata": {},
   "outputs": [
    {
     "name": "stdout",
     "output_type": "stream",
     "text": [
      "1\n"
     ]
    }
   ],
   "source": [
    "bonus = ['S', 'D', 'T'] # S는 1제곱 , D는 2제곱 , T는 3제곱 해주기 위해서 이 코드를 짜고있음.\n",
    "\n",
    "print(bonus.index('S')+1)"
   ]
  },
  {
   "cell_type": "markdown",
   "metadata": {},
   "source": [
    "## ● 문제8.  2^3을 파이썬으로 출력하시오!"
   ]
  },
  {
   "cell_type": "code",
   "execution_count": 9,
   "metadata": {},
   "outputs": [
    {
     "name": "stdout",
     "output_type": "stream",
     "text": [
      "8\n"
     ]
    }
   ],
   "source": [
    "print(2**3)"
   ]
  },
  {
   "cell_type": "markdown",
   "metadata": {},
   "source": [
    "## ● 문제9. 1S2D3T에서 숫자는 추출했는데 S와 D와 T를 bonus 변수를 이용해서 추출해서 아래와 같이 S는 1로 D는 2로 T는 3으로 출력되게 하시오!"
   ]
  },
  {
   "cell_type": "code",
   "execution_count": 10,
   "metadata": {},
   "outputs": [
    {
     "name": "stdout",
     "output_type": "stream",
     "text": [
      "입력하시오 : 1S2D3T\n",
      "[1, 2, 3]\n"
     ]
    }
   ],
   "source": [
    "input_data = input(\"입력하시오 : \")\n",
    "dart = [i for i in input_data]\n",
    "\n",
    "num = ['0', '1', '2', '3', '4', '5', '6', '7', '8', '9', '10']\n",
    "bonus = ['S', 'D', 'T']\n",
    "option = ['*', '#']\n",
    "\n",
    "dart_num = [i for i in dart if i in num]\n",
    "dart_bonus = [bonus.index(i)+1 for i in dart if i in bonus]\n",
    "\n",
    "print(dart_bonus)"
   ]
  },
  {
   "cell_type": "markdown",
   "metadata": {},
   "source": [
    "## ● 문제10. 위의 코드에서 10S2D3T을 입력했을 때 아래와 같이 출력 되게 하시오!"
   ]
  },
  {
   "cell_type": "code",
   "execution_count": 11,
   "metadata": {},
   "outputs": [
    {
     "name": "stdout",
     "output_type": "stream",
     "text": [
      "입력 : 10S2D3T\n",
      "['10', '2', '3']\n"
     ]
    }
   ],
   "source": [
    "input_data = input(\"입력 : \").replace('10', 'k')\n",
    "dart = [i for i in input_data] \n",
    "\n",
    "# 현재 한 글자씩 잘라서 리스트의 요소로 넣기 때문에 '10'으로 들어가지 않고 '1', '0' 으로 들어간다.\n",
    "# 따라서, 10을 replace를 이용해서 'k' 라는 한글자로 표현함.\n",
    "# 예제2번 때문에 필요함.\n",
    "\n",
    "num = ['0', '1', '2', '3', '4', '5', '6', '7', '8', '9', 'k']\n",
    "bonus = ['S', 'D', 'T']\n",
    "option = ['*', '#']\n",
    "\n",
    "dart_num = ['10' if i == 'k' else i  for i in dart if i in num] # 'dart' 리스트안에 'k'가 있으면 10으로 바꿔줌.\n",
    "dart_bonus = [bonus.index(i)+1 for i in dart if i in bonus]\n",
    "\n",
    "print(dart_num)"
   ]
  },
  {
   "cell_type": "markdown",
   "metadata": {},
   "source": [
    "## ● 문제11. 위의 코드를 이용해서 10S4D5T 를 입력하면 아래의 식으로 변환되게 하시오!\n",
    "\n",
    "10 ** 1 + 4 ** 2 + 5 ** 3"
   ]
  },
  {
   "cell_type": "code",
   "execution_count": 12,
   "metadata": {},
   "outputs": [
    {
     "name": "stdout",
     "output_type": "stream",
     "text": [
      "입력 : 10S4D5T\n",
      "[10, 4, 5]\n",
      "[1, 2, 3]\n",
      "10 ** 1 = 10\n",
      "4 ** 2 = 16\n",
      "5 ** 3 = 125\n"
     ]
    }
   ],
   "source": [
    "input_data = input(\"입력 : \").replace('10', 'k') #10S4D5T\n",
    "dart = [i for i in input_data] \n",
    "\n",
    "\n",
    "num = ['0', '1', '2', '3', '4', '5', '6', '7', '8', '9', 'k']\n",
    "bonus = ['S', 'D', 'T']\n",
    "option = ['*', '#']\n",
    "\n",
    "\n",
    "dart_num = [ 10 if i == 'k' else int(i)  for i in dart if i in num] # 'dart' 리스트안에 'k'가 있으면 10으로 바꿔줌.\n",
    "dart_bonus = [bonus.index(i)+1 for i in dart if i in bonus]\n",
    "\n",
    "print(dart_num)\n",
    "print(dart_bonus)\n",
    "\n",
    "for i in range(len(dart_num)):\n",
    "    print(dart_num[i], \"**\", dart_bonus[i], \"=\", dart_num[i] ** dart_bonus[i])"
   ]
  },
  {
   "cell_type": "code",
   "execution_count": null,
   "metadata": {},
   "outputs": [],
   "source": [
    "# 결과를 한줄로 표현하기\n",
    "# 10**1 + 4**2 + 5**3\n",
    "\n",
    "input_data = input(\"입력 : \").replace('10', 'k') #10S2D3T\n",
    "dart = [i for i in input_data] \n",
    "\n",
    "\n",
    "num = ['0', '1', '2', '3', '4', '5', '6', '7', '8', '9', 'k']\n",
    "bonus = ['S', 'D', 'T']\n",
    "option = ['*', '#']\n",
    "\n",
    "\n",
    "dart_num = [ 10 if i == 'k' else int(i)  for i in dart if i in num] # 'dart' 리스트안에 'k'가 있으면 10으로 바꿔줌.\n",
    "dart_bonus = [bonus.index(i)+1 for i in dart if i in bonus]\n",
    "\n",
    "print(dart_num)\n",
    "print(dart_bonus)\n",
    "\n",
    "str1 = ''\n",
    "for i in range(len(dart_num)):\n",
    "    str1 += str(dart_num[i]**dart_bonus[i]) + '+' # 문자열 합치기\n",
    "\n",
    "# 10+4+27+\n",
    "\n",
    "print(str1.rstrip('+')) # rstrip으로 맨 오른쪽에있는 '+' 를 없애준다.\n",
    "# 10+4+27"
   ]
  },
  {
   "cell_type": "markdown",
   "metadata": {},
   "source": [
    "## 문제12. 위의 코드에 eval 을 이용해서 위의 출력된 결과인 10+16+125 가 계산되게 하시오!"
   ]
  },
  {
   "cell_type": "code",
   "execution_count": null,
   "metadata": {},
   "outputs": [],
   "source": [
    "# 결과를 한줄로 표현하기\n",
    "# 10**1 + 4**2 + 5**3\n",
    "\n",
    "input_data = input(\"입력 : \").replace('10', 'k') #10S2D3T\n",
    "dart = [i for i in input_data] \n",
    "\n",
    "\n",
    "num = ['0', '1', '2', '3', '4', '5', '6', '7', '8', '9', 'k']\n",
    "bonus = ['S', 'D', 'T']\n",
    "option = ['*', '#']\n",
    "\n",
    "\n",
    "dart_num = [ 10 if i == 'k' else int(i)  for i in dart if i in num] # 'dart' 리스트안에 'k'가 있으면 10으로 바꿔줌.\n",
    "dart_bonus = [bonus.index(i)+1 for i in dart if i in bonus]\n",
    "\n",
    "print(dart_num)\n",
    "print(dart_bonus)\n",
    "\n",
    "str1 = ''\n",
    "for i in range(len(dart_num)):\n",
    "    str1 += str(dart_num[i]**dart_bonus[i]) + '+' # 문자열 합치기\n",
    "\n",
    "# 10+4+27+\n",
    "\n",
    "print(eval(str1.rstrip('+'))) # rstrip으로 맨 오른쪽에있는 '+' 를 없애준다.\n",
    "# 10+4+27"
   ]
  },
  {
   "cell_type": "markdown",
   "metadata": {},
   "source": [
    "### 주의사항 : 예제2번, 예제4번 확인해볼것!\n",
    "\n",
    "### 힌트 : 스타상(*) 을 적용하기 위해서 전에 했던 값을 저장할 필요도있다.\n",
    "\n",
    "### if, elif, append, index, replace, 문자열더하기 , 빈리스트 하나 만들기 등등"
   ]
  },
  {
   "cell_type": "code",
   "execution_count": null,
   "metadata": {},
   "outputs": [],
   "source": [
    "# 카카오 문자열 처리 알고리즘 일반 version1\n",
    "\n",
    "d = '1T2D3D#'\n",
    "n = [str(i) for i in range(10)]\n",
    "a = ['S', 'D', 'T']\n",
    "s = ['*', '#']\n",
    "\n",
    "li = []\n",
    "answer = 0\n",
    "tmp1 = ''\n",
    "\n",
    "for i in range(len(d)):\n",
    "    if d[i] in n:\n",
    "        tmp1 += d[i]\n",
    "    \n",
    "    elif d[i] in a:\n",
    "        num = int(tmp1)\n",
    "        \n",
    "        if d[i] == 'S':\n",
    "            tmp2 = num**1\n",
    "            \n",
    "        elif d[i] == 'D':\n",
    "            tmp2 = num**2\n",
    "\n",
    "        elif d[i] == 'T':\n",
    "            tmp2 = num**3       \n",
    "        tmp1 = ''\n",
    "        li.append(tmp2)\n",
    "        \n",
    "    elif d[i] == '*':\n",
    "        if len(li) >= 2:\n",
    "            li[len(li)-2] = li[len(li)-2] * 2\n",
    "            li[len(li)-1] = li[len(li)-1] * 2\n",
    "        else:\n",
    "            li[len(li)-1] = li[len(li)-1] * 2\n",
    "        \n",
    "    elif d[i] == '#':\n",
    "        li[len(li)-1] = li[len(li)-1] * (-1)\n",
    "        \n",
    "for i in li:\n",
    "    answer += i\n",
    "    \n",
    "print(answer)"
   ]
  },
  {
   "cell_type": "code",
   "execution_count": null,
   "metadata": {},
   "outputs": [],
   "source": [
    "def solution(dartResult):\n",
    "    answer = 0\n",
    "    n = [str(i) for i in range(10)]\n",
    "    a = ['S', 'D', 'T']\n",
    "    li = []\n",
    "\n",
    "    tmp1 = ''\n",
    "    for i in range(len(dartResult)):\n",
    "        if dartResult[i] in n:\n",
    "            tmp1 += dartResult[i]\n",
    "            \n",
    "        elif dartResult[i] in a:\n",
    "            num = int(tmp1)\n",
    "            if dartResult[i] == 'S':\n",
    "                result = num**1\n",
    "                \n",
    "            elif dartResult[i] == 'D':\n",
    "                result = num**2\n",
    "    \n",
    "            elif dartResult[i] == 'T':\n",
    "                result = num**3   \n",
    "                \n",
    "            tmp1 = ''\n",
    "            li.append(result)\n",
    "            \n",
    "        elif dartResult[i] == '*':\n",
    "            if len(li) >= 2:\n",
    "                li[len(li)-2] = li[len(li)-2] * 2\n",
    "                li[len(li)-1] = li[len(li)-1] * 2\n",
    "            else:\n",
    "                li[len(li)-1] = li[len(li)-1] * 2\n",
    "            \n",
    "        elif dartResult[i] == '#':\n",
    "            li[len(li)-1] = li[len(li)-1] * (-1)\n",
    "            \n",
    "    for i in li:\n",
    "        answer += i\n",
    "        \n",
    "    return answer\n",
    "\n",
    "dartResult = '1S2D*3T'\n",
    "print(solution(dartResult))"
   ]
  }
 ],
 "metadata": {
  "kernelspec": {
   "display_name": "Python 3",
   "language": "python",
   "name": "python3"
  },
  "language_info": {
   "codemirror_mode": {
    "name": "ipython",
    "version": 3
   },
   "file_extension": ".py",
   "mimetype": "text/x-python",
   "name": "python",
   "nbconvert_exporter": "python",
   "pygments_lexer": "ipython3",
   "version": "3.7.4"
  }
 },
 "nbformat": 4,
 "nbformat_minor": 2
}
