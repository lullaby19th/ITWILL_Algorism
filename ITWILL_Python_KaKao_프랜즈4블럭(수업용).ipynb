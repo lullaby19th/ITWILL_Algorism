{
 "cells": [
  {
   "cell_type": "markdown",
   "metadata": {},
   "source": [
    "## ■ KaKao 프랜즈 4블럭 알고리즘 (Jan 6th)"
   ]
  },
  {
   "cell_type": "markdown",
   "metadata": {},
   "source": [
    "### ■ 문제 설명 : https://jay-ji.tistory.com/\n",
    "### ■ Test 및 정답 확인 : https://programmers.co.kr/learn/courses/30/lessons/17679?language=python3\n",
    "\n",
    "#### 프로그래머스 시간제한 : 10.0초 (10000ms 가 10초) \n",
    "#### 런타임에러 : 이것도 코드 잘못짠거임(시간초과면 시간초과라고 뜸)\n",
    "#### 시간 걸리는 주원인 : for문 & 잦은 함수 호출"
   ]
  },
  {
   "cell_type": "markdown",
   "metadata": {},
   "source": [
    "### ● Step1: 문제에서 주어진 board 1차원 배열을 2차원으로 만들어보기!\n",
    "\n",
    "#### ['CCBDE', 'AAADE', 'AAABF', 'CCBBE']\n",
    "\n",
    "__CCBDE  \n",
    "AAADE  \n",
    "AAABF  \n",
    "CCBBE__  "
   ]
  },
  {
   "cell_type": "code",
   "execution_count": 1,
   "metadata": {},
   "outputs": [
    {
     "name": "stdout",
     "output_type": "stream",
     "text": [
      "[['C', 'C', 'B', 'D', 'E'], ['A', 'A', 'A', 'D', 'E'], ['A', 'A', 'A', 'B', 'F'], ['C', 'C', 'B', 'B', 'E']]\n"
     ]
    }
   ],
   "source": [
    "x = ['CCBDE', 'AAADE', 'AAABF', 'CCBBE']\n",
    "\n",
    "for i in range(len(x)):\n",
    "    x[i] = list(x[i])\n",
    "\n",
    "print(x)"
   ]
  },
  {
   "cell_type": "code",
   "execution_count": 5,
   "metadata": {},
   "outputs": [
    {
     "name": "stdout",
     "output_type": "stream",
     "text": [
      "[['C', 'C', 'B', 'D', 'E'], ['A', 'A', 'A', 'D', 'E'], ['A', 'A', 'A', 'B', 'F'], ['C', 'C', 'B', 'B', 'E']]\n"
     ]
    }
   ],
   "source": [
    "# def를 써서 표현\n",
    "\n",
    "def divide_block(x):\n",
    "\n",
    "    for i in range(len(x)):\n",
    "\n",
    "        x[i] = list(x[i])\n",
    "\n",
    "    return x\n",
    "\n",
    "x = ['CCBDE', 'AAADE', 'AAABF', 'CCBBE']\n",
    "print(divide_block(x))"
   ]
  },
  {
   "cell_type": "markdown",
   "metadata": {},
   "source": [
    "### ● Step2: Board 판 만들기\n",
    "\n",
    "__\" 몇개의 블록이 사라지는지 계산하기 위해서 만드는 코드 (안만들어도 풀수는 있음) \"__\n",
    "\n",
    "Board = [[0,0,0,0,0], [0,0,0,0,0], [0,0,0,0,0], [0,0,0,0,0], [0,0,0,0,0]]"
   ]
  },
  {
   "cell_type": "code",
   "execution_count": 3,
   "metadata": {},
   "outputs": [
    {
     "name": "stdout",
     "output_type": "stream",
     "text": [
      "[[0, 0, 0, 0, 0], [0, 0, 0, 0, 0], [0, 0, 0, 0, 0], [0, 0, 0, 0, 0]]\n"
     ]
    }
   ],
   "source": [
    "# def를 써서 표현\n",
    "def zero_block(m,n):\n",
    "    countBoard = []\n",
    "    for i in range(m):\n",
    "        countBoard.append([0 for i in range(n)])\n",
    "    return countBoard\n",
    "\n",
    "print(zero_block(4,5))"
   ]
  },
  {
   "cell_type": "markdown",
   "metadata": {},
   "source": [
    "### ● Step3: 2차원으로 변환한 리스트에서 4개의 원소가 같은 것을 찾는 기능\n",
    "\n",
    "__CCBDE  \n",
    "AAADE  \n",
    "AAABF  \n",
    "CCBBE__  \n",
    "\n",
    "__\" 현재 A가 6개가 같은 상태 \"__"
   ]
  },
  {
   "cell_type": "code",
   "execution_count": 10,
   "metadata": {},
   "outputs": [
    {
     "name": "stdout",
     "output_type": "stream",
     "text": [
      "[[0, 0, 0, 0, 0], [1, 1, 1, 0, 0], [1, 1, 1, 0, 0], [0, 0, 0, 0, 0]]\n"
     ]
    }
   ],
   "source": [
    "# 이건 if문을 한번만 쓸경우가 아니기 때문에 반복해서 쓸경우에는 추가 보완을 해야됨.\n",
    "# 수업용\n",
    "\n",
    "def match(m,n,board):\n",
    "\n",
    "    a = divide_block(x) # 문제에서 주어진 board 변수를 2차원으로 바꾸는 divide_block 코드\n",
    "    b = zero_block(m,n)  # board판을 만들어 주는 zero_block 함수\n",
    "\n",
    "    for i in range(m-1):\n",
    "        for j in range(n-1):\n",
    "            if a[i][j] == a[i+1][j] == a[i][j+1] == a[i+1][j+1]: \n",
    "                b[i][j], b[i][j+1], b[i+1][j], b[i+1][j+1] = 1,1,1,1            \n",
    "\n",
    "    return b\n",
    "\n",
    "x = ['CCBDE', 'AAADE', 'AAABF', 'CCBBE']\n",
    "print(match(4,5,x))"
   ]
  },
  {
   "cell_type": "markdown",
   "metadata": {},
   "source": [
    "### ※ 설명 : 4개의 블럭이 같은 위치의 board 리스트의 원소를 1로 변경해준다."
   ]
  },
  {
   "cell_type": "markdown",
   "metadata": {},
   "source": [
    "### ● Step4 : board 리스트의 원소중 1이 몇개였는지 count 하기.\n",
    "\n",
    "__\" step3에서 결과로 나온 board 리스트에서 1을 count하면 된다. \"__\n",
    "\n",
    "__\" 이 코드로 인하여 사라진 블록들의 숫자를 셀 수있게 된다.\"__ "
   ]
  },
  {
   "cell_type": "code",
   "execution_count": 9,
   "metadata": {},
   "outputs": [
    {
     "name": "stdout",
     "output_type": "stream",
     "text": [
      "[[0, 0, 0, 0, 0], [1, 1, 1, 0, 0], [1, 1, 1, 0, 0], [0, 0, 0, 0, 0]]\n",
      "6\n"
     ]
    }
   ],
   "source": [
    "def count_1(m,n,x):\n",
    "    \n",
    "    countboard = match(m,n,x) # [[0, 0, 0, 0, 0], [1, 1, 1, 0, 0], [1, 1, 1, 0, 0], [0, 0, 0, 0, 0]]\n",
    "    print(countboard)\n",
    "    cnt = 0\n",
    "    \n",
    "    for i in countboard:\n",
    "        num = i.count(1)\n",
    "        cnt += num\n",
    "\n",
    "    return cnt\n",
    "\n",
    "m = 4\n",
    "n = 5\n",
    "x = ['CCBDE', 'AAADE', 'AAABF', 'CCBBE']\n",
    "print(count_1(m,n,x))"
   ]
  },
  {
   "cell_type": "markdown",
   "metadata": {},
   "source": [
    "### ● Step5 : 게임판 x리스트의 같은 4자리의 원소들을 표시하기( 무엇으로 표시하던 상관은 없다.)\n",
    "\n",
    "__CCBDE  \n",
    "AAADE  \n",
    "AAABF  \n",
    "CCBBE__  \n",
    "\n",
    "↓↓↓\n",
    "\n",
    "__CCBDE  \n",
    "000DE  \n",
    "000BF  \n",
    "CCBBF__  "
   ]
  },
  {
   "cell_type": "code",
   "execution_count": 11,
   "metadata": {},
   "outputs": [
    {
     "name": "stdout",
     "output_type": "stream",
     "text": [
      "[['C', 'C', 'B', 'D', 'E'], [0, 0, 0, 'D', 'E'], [0, 0, 0, 'B', 'F'], ['C', 'C', 'B', 'B', 'E']]\n"
     ]
    }
   ],
   "source": [
    "def space_0(m,n,x):\n",
    "    \n",
    "    a = divide_block(x) # [['C', 'C', 'B', 'D', 'E'], ['A', 'A', 'A', 'D', 'E'], ['A', 'A', 'A', 'B', 'F'], ['C', 'C', 'B', 'B', 'E']]\n",
    "    board = match(m,n,x) # [[0, 0, 0, 0, 0], [1, 1, 1, 0, 0], [1, 1, 1, 0, 0], [0, 0, 0, 0, 0]]\n",
    "\n",
    "    for i in range(m):\n",
    "        for j in range(n):\n",
    "            if board[i][j] == 1:\n",
    "                a[i][j] = 0\n",
    "\n",
    "    return a\n",
    "\n",
    "m = 4\n",
    "n = 5\n",
    "x = ['CCBDE', 'AAADE', 'AAABF', 'CCBBE']\n",
    "print(space_0(m,n,x))"
   ]
  },
  {
   "cell_type": "markdown",
   "metadata": {},
   "source": [
    "### ● Step6 : 숫자 0자리와 숫자 0위의 원소를 바꾸는 기능\n",
    "\n",
    "__CCBDE  \n",
    "000DE  \n",
    "000BF  \n",
    "CCBBF__  \n",
    "\n",
    "↓↓↓\n",
    "\n",
    "__000DE  \n",
    "CCBDE  \n",
    "000BF  \n",
    "CCBBF__\n",
    "\n",
    "↓↓↓\n",
    "\n",
    "__000DE  \n",
    "000DE  \n",
    "CCBBE  \n",
    "CCBBF__"
   ]
  },
  {
   "cell_type": "code",
   "execution_count": 13,
   "metadata": {},
   "outputs": [
    {
     "name": "stdout",
     "output_type": "stream",
     "text": [
      "[[0, 0, 0, 'D', 'E'], [0, 0, 0, 'D', 'E'], ['C', 'C', 'B', 'B', 'F'], ['C', 'C', 'B', 'B', 'E']]\n"
     ]
    }
   ],
   "source": [
    "# 이건 한번만 바뀌기 때문에 추가적인 코드 보완이 필요함.\n",
    "# 수업용\n",
    "\n",
    "def exchange(m,n,x):\n",
    "    a = space_0(m,n,x) # [['C', 'C', 'B', 'D', 'E'], [0, 0, 0, 'D', 'E'], [0, 0, 0, 'B', 'F'], ['C', 'C', 'B', 'B', 'E']]\n",
    "    for i in range(m-1):\n",
    "        for j in range(n):\n",
    "            if a[i+1][j] == 0:\n",
    "                a[i][j], a[i+1][j] = a[i+1][j], a[i][j]\n",
    "\n",
    "    return a\n",
    "\n",
    "m = 4\n",
    "n = 5\n",
    "x = ['CCBDE', 'AAADE', 'AAABF', 'CCBBE']\n",
    "\n",
    "print(exchange(m,n,x))"
   ]
  }
 ],
 "metadata": {
  "kernelspec": {
   "display_name": "Python 3",
   "language": "python",
   "name": "python3"
  },
  "language_info": {
   "codemirror_mode": {
    "name": "ipython",
    "version": 3
   },
   "file_extension": ".py",
   "mimetype": "text/x-python",
   "name": "python",
   "nbconvert_exporter": "python",
   "pygments_lexer": "ipython3",
   "version": "3.7.4"
  }
 },
 "nbformat": 4,
 "nbformat_minor": 2
}
