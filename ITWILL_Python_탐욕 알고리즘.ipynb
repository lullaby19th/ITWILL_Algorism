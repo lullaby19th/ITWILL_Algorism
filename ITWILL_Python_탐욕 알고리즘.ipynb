{
 "cells": [
  {
   "cell_type": "markdown",
   "metadata": {},
   "source": [
    "## 4. 탐욕알고리즘\n",
    "\n",
    "탐욕 알고리즘은 매 순간마다 최선의 선택을 하게 하는 것입니다.  \n",
    "선택할 때마다 가장 좋다고 생각되는 것을 선택해 나가며  \n",
    "최종적인 해답을 구하는 알고리즘 입니다.  \n",
    "이 알고리즘을 설계할 때 주의할 점은 전체를 고려하는게 아니라  \n",
    "문제를 부분적으로 나누어, 나누어진 문제에 대한 최적의 해답을 구하게끔 해야한다는 점 입니다.  \n",
    "\n",
    "\n",
    "__예)__ : 14원의 잔돈을 줘야하는데 잔돈의 종류가 10원, 7원, 1원이 있으면 잔돈을 가장 빨리 줄 수 있는 방법?\n",
    "\n",
    "__일반 :__ 7원 2개\n",
    "\n",
    "__탐욕알고리즘 :__ 10원 동전 1개, 7원 동전 0개, 1원 동전 4개 (일이 더 많아짐.)"
   ]
  },
  {
   "cell_type": "markdown",
   "metadata": {},
   "source": [
    "## 문제273.( 전체 문제 )  \n",
    "## 아래와 같이 greey함수를 구현하시오!\n",
    "\n",
    "print(greedy())\n",
    "\n",
    "잔돈 총액 ? 14\n",
    "\n",
    "결과 : 10원 동전 1개, 7원 동전 0개, 1원 동전 4개"
   ]
  },
  {
   "cell_type": "markdown",
   "metadata": {},
   "source": [
    "## 문제274. (작은 문제들) 거스름돈의 종류를 입력하게 하고 거스름돈을 정렬하는 greedy 함수를 생성하시오.\n",
    "\n",
    "print(greedy())\n",
    "\n",
    "거스름돈의 종류를 입력하세요 ~ 7, 1, 10\n",
    "\n",
    "[10,7,1]"
   ]
  },
  {
   "cell_type": "code",
   "execution_count": 2,
   "metadata": {},
   "outputs": [
    {
     "name": "stdout",
     "output_type": "stream",
     "text": [
      "거스름돈의 종류를 입력하세요7,1,10\n",
      "[10, 7, 1]\n"
     ]
    }
   ],
   "source": [
    "def greedy():\n",
    "    \n",
    "    a,b,c = input(\"거스름돈의 종류를 입력하세요\").split(',') # 콤마(,)를 기준으로 a,b,c가 문자열로 저장된다.\n",
    "    \n",
    "    x = [a,b,c]\n",
    "    \n",
    "    sal = list(map(int,x)) # x자리에는 무조건 리스트형이나 numpy형 자료가 들어가야된다.\n",
    "    \n",
    "    sal.sort(reverse=True)\n",
    "    return sal\n",
    "\n",
    "print(greedy())"
   ]
  },
  {
   "cell_type": "code",
   "execution_count": null,
   "metadata": {},
   "outputs": [],
   "source": [
    "def greedy():\n",
    "    cash_type = [int(x) for x in input('거스름돈?').split(',')]\n",
    "    cash_type.sort(reverse = True)\n",
    "    return cash_type\n",
    "\n",
    "print(greedy())"
   ]
  },
  {
   "cell_type": "code",
   "execution_count": null,
   "metadata": {},
   "outputs": [],
   "source": [
    "# 참고할 코드\n",
    "\n",
    "x = input('그냥 입력하세요').split(',')\n",
    "\n",
    "print(x)\n",
    "\n",
    "# ,(콤마)를 기준으로 x가 리스트형으로 저장된다.(요소들은 문자열 형태)"
   ]
  },
  {
   "cell_type": "markdown",
   "metadata": {},
   "source": [
    "## 문제275. 14를 10으로 나눈 몫과 나머지 값을 구하시오! (divmod)"
   ]
  },
  {
   "cell_type": "code",
   "execution_count": 3,
   "metadata": {},
   "outputs": [
    {
     "name": "stdout",
     "output_type": "stream",
     "text": [
      "[1, 4]\n"
     ]
    }
   ],
   "source": [
    "print(list(divmod(14,10)))"
   ]
  },
  {
   "cell_type": "markdown",
   "metadata": {},
   "source": [
    "## 문제276. 14를 10으로 나눈 나머지값과 몫을 따로 따로 출력하시오."
   ]
  },
  {
   "cell_type": "code",
   "execution_count": 1,
   "metadata": {},
   "outputs": [
    {
     "name": "stdout",
     "output_type": "stream",
     "text": [
      "1\n",
      "4\n"
     ]
    }
   ],
   "source": [
    "x = 14 // 10 #몫\n",
    "\n",
    "y = 14%10 #나머지\n",
    "\n",
    "print (x)\n",
    "print (y)"
   ]
  },
  {
   "cell_type": "markdown",
   "metadata": {},
   "source": [
    "## 문제 277. 위의 두개의 문제의 코드를 잘 조합해서 greedy()함수를 구현하시오~\n",
    "\n",
    "print(greedy())\n",
    "\n",
    "잔돈 액수를 입력하세요~ 29\n",
    "\n",
    "거스름돈의 단위를 입력하세요 10,7,1\n",
    "\n",
    "10원 2개 , 7원 2개, 1원 2개"
   ]
  },
  {
   "cell_type": "code",
   "execution_count": 2,
   "metadata": {},
   "outputs": [
    {
     "name": "stdout",
     "output_type": "stream",
     "text": [
      "거슬러 줘야하는 금액을 입력하세요 ~ : 27\n",
      "거스름돈의 종류를 입력하세요 ~ : 10,7,1\n",
      "10원 동전 2개\n",
      "7원 동전 1개\n",
      "1원 동전 0개\n"
     ]
    }
   ],
   "source": [
    "def greedy() : \n",
    "\n",
    "    target = int(input(\"거슬러 줘야하는 금액을 입력하세요 ~ : \"))\n",
    "\n",
    "    L = input(\"거스름돈의 종류를 입력하세요 ~ : \").split(\",\")\n",
    "\n",
    "\n",
    "\n",
    "    coin = sorted([int(L[i]) for i in range(len(L))], reverse = True)\n",
    "\n",
    "\n",
    "\n",
    "    for i in range(len(coin)) : \n",
    "\n",
    "        case = target//coin[i]\n",
    "\n",
    "        target = target%coin[i]\n",
    "\n",
    "        print(\"{0}원 동전 {1}개\".format(coin[i], case))  # end = ' '\n",
    "\n",
    "        \n",
    "\n",
    "greedy()"
   ]
  }
 ],
 "metadata": {
  "kernelspec": {
   "display_name": "Python 3",
   "language": "python",
   "name": "python3"
  },
  "language_info": {
   "codemirror_mode": {
    "name": "ipython",
    "version": 3
   },
   "file_extension": ".py",
   "mimetype": "text/x-python",
   "name": "python",
   "nbconvert_exporter": "python",
   "pygments_lexer": "ipython3",
   "version": "3.7.4"
  }
 },
 "nbformat": 4,
 "nbformat_minor": 2
}
