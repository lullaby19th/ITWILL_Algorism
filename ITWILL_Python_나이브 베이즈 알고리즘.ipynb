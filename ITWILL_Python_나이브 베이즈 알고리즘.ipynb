{
 "cells": [
  {
   "cell_type": "markdown",
   "metadata": {},
   "source": [
    "## ■ 나이브 베이즈 알고리즘을 파이썬을 해결하기 위한 기본 문제들"
   ]
  },
  {
   "cell_type": "markdown",
   "metadata": {},
   "source": [
    "## 문제1. 판다스의 crosstab이 무엇인지 확인하시오~"
   ]
  },
  {
   "cell_type": "code",
   "execution_count": 1,
   "metadata": {},
   "outputs": [
    {
     "name": "stdout",
     "output_type": "stream",
     "text": [
      "[1 1 1 1 2 2]\n"
     ]
    },
    {
     "data": {
      "text/html": [
       "<div>\n",
       "<style scoped>\n",
       "    .dataframe tbody tr th:only-of-type {\n",
       "        vertical-align: middle;\n",
       "    }\n",
       "\n",
       "    .dataframe tbody tr th {\n",
       "        vertical-align: top;\n",
       "    }\n",
       "\n",
       "    .dataframe thead th {\n",
       "        text-align: right;\n",
       "    }\n",
       "</style>\n",
       "<table border=\"1\" class=\"dataframe\">\n",
       "  <thead>\n",
       "    <tr style=\"text-align: right;\">\n",
       "      <th>y</th>\n",
       "      <th>a</th>\n",
       "      <th>b</th>\n",
       "    </tr>\n",
       "    <tr>\n",
       "      <th>x</th>\n",
       "      <th></th>\n",
       "      <th></th>\n",
       "    </tr>\n",
       "  </thead>\n",
       "  <tbody>\n",
       "    <tr>\n",
       "      <td>1</td>\n",
       "      <td>3</td>\n",
       "      <td>1</td>\n",
       "    </tr>\n",
       "    <tr>\n",
       "      <td>2</td>\n",
       "      <td>1</td>\n",
       "      <td>1</td>\n",
       "    </tr>\n",
       "  </tbody>\n",
       "</table>\n",
       "</div>"
      ],
      "text/plain": [
       "y  a  b\n",
       "x      \n",
       "1  3  1\n",
       "2  1  1"
      ]
     },
     "execution_count": 1,
     "metadata": {},
     "output_type": "execute_result"
    }
   ],
   "source": [
    "ㅠimport numpy as np\n",
    "\n",
    "import pandas as pd\n",
    "\n",
    "x = np.array([1, 1, 1, 1, 2, 2])\n",
    "\n",
    "y = np.array([\"a\", \"a\", \"b\", \"a\", \"a\", \"b\"])\n",
    "\n",
    "print(x)\n",
    "\n",
    "pd.crosstab(x, y, rownames = ['x'], colnames = ['y'])"
   ]
  },
  {
   "cell_type": "markdown",
   "metadata": {},
   "source": [
    "## 문제2. emp_comm.csv 데이터를 읽어서 부서번호별 직업별 인원수를 출력하시오~(cross table 생성)"
   ]
  },
  {
   "cell_type": "code",
   "execution_count": 4,
   "metadata": {},
   "outputs": [
    {
     "name": "stdout",
     "output_type": "stream",
     "text": [
      "[10 30 10 20 30 30 30 30 30 20 20 20 20 10]\n",
      "['PRESIDENT' 'MANAGER' 'MANAGER' 'MANAGER' 'SALESMAN' 'SALESMAN'\n",
      " 'SALESMAN' 'CLERK' 'SALESMAN' 'ANALYST' 'CLERK' 'ANALYST' 'CLERK' 'CLERK']\n"
     ]
    },
    {
     "data": {
      "text/html": [
       "<div>\n",
       "<style scoped>\n",
       "    .dataframe tbody tr th:only-of-type {\n",
       "        vertical-align: middle;\n",
       "    }\n",
       "\n",
       "    .dataframe tbody tr th {\n",
       "        vertical-align: top;\n",
       "    }\n",
       "\n",
       "    .dataframe thead th {\n",
       "        text-align: right;\n",
       "    }\n",
       "</style>\n",
       "<table border=\"1\" class=\"dataframe\">\n",
       "  <thead>\n",
       "    <tr style=\"text-align: right;\">\n",
       "      <th>y</th>\n",
       "      <th>ANALYST</th>\n",
       "      <th>CLERK</th>\n",
       "      <th>MANAGER</th>\n",
       "      <th>PRESIDENT</th>\n",
       "      <th>SALESMAN</th>\n",
       "    </tr>\n",
       "    <tr>\n",
       "      <th>x</th>\n",
       "      <th></th>\n",
       "      <th></th>\n",
       "      <th></th>\n",
       "      <th></th>\n",
       "      <th></th>\n",
       "    </tr>\n",
       "  </thead>\n",
       "  <tbody>\n",
       "    <tr>\n",
       "      <td>10</td>\n",
       "      <td>0</td>\n",
       "      <td>1</td>\n",
       "      <td>1</td>\n",
       "      <td>1</td>\n",
       "      <td>0</td>\n",
       "    </tr>\n",
       "    <tr>\n",
       "      <td>20</td>\n",
       "      <td>2</td>\n",
       "      <td>2</td>\n",
       "      <td>1</td>\n",
       "      <td>0</td>\n",
       "      <td>0</td>\n",
       "    </tr>\n",
       "    <tr>\n",
       "      <td>30</td>\n",
       "      <td>0</td>\n",
       "      <td>1</td>\n",
       "      <td>1</td>\n",
       "      <td>0</td>\n",
       "      <td>4</td>\n",
       "    </tr>\n",
       "  </tbody>\n",
       "</table>\n",
       "</div>"
      ],
      "text/plain": [
       "y   ANALYST  CLERK  MANAGER  PRESIDENT  SALESMAN\n",
       "x                                               \n",
       "10        0      1        1          1         0\n",
       "20        2      2        1          0         0\n",
       "30        0      1        1          0         4"
      ]
     },
     "execution_count": 4,
     "metadata": {},
     "output_type": "execute_result"
    }
   ],
   "source": [
    "import pandas as pd\n",
    "\n",
    "import numpy as np \n",
    "\n",
    "emp = pd.read_csv(\"d:\\data\\\\emp_comm.csv\")\n",
    "\n",
    "x=np.array(emp[\"deptno\"]) # 부서번호 데이터만 가져와서 numpy 배열 생성\n",
    "print(x)\n",
    "y=np.array(emp[\"job\"]) # 직업 데이터만 가져와서 numpy 배열 생성\n",
    "print(y)\n",
    "pd.crosstab(x, y, rownames = ['x'], colnames = ['y'])"
   ]
  },
  {
   "cell_type": "markdown",
   "metadata": {},
   "source": [
    "## 문제3. 밑에 토탈이 나오게 하려면 ?"
   ]
  },
  {
   "cell_type": "code",
   "execution_count": 6,
   "metadata": {},
   "outputs": [
    {
     "name": "stdout",
     "output_type": "stream",
     "text": [
      "y    ANALYST  CLERK  MANAGER  PRESIDENT  SALESMAN  All\n",
      "x                                                     \n",
      "10         0      1        1          1         0    3\n",
      "20         2      2        1          0         0    5\n",
      "30         0      1        1          0         4    6\n",
      "All        2      4        3          1         4   14\n"
     ]
    }
   ],
   "source": [
    "import pandas as pd\n",
    "\n",
    "import numpy as np \n",
    "\n",
    "emp = pd.read_csv(\"d:\\data\\\\emp_comm.csv\")\n",
    "\n",
    "\n",
    "\n",
    "\n",
    "\n",
    "x=np.array(emp[\"deptno\"])\n",
    "\n",
    "y=np.array(emp[\"job\"])\n",
    "\n",
    "\n",
    "\n",
    "ct = pd.crosstab(x, y, rownames = ['x'], colnames = ['y'], margins=True)\n",
    "print(ct)"
   ]
  },
  {
   "cell_type": "markdown",
   "metadata": {},
   "source": [
    "## 문제4. 비아그라가 포함된 메일 데이터로 수행 ? "
   ]
  },
  {
   "cell_type": "code",
   "execution_count": 7,
   "metadata": {},
   "outputs": [
    {
     "name": "stdout",
     "output_type": "stream",
     "text": [
      "y     no  yes  All\n",
      "x                 \n",
      "ham   79    1   80\n",
      "spam  16    4   20\n",
      "All   95    5  100\n"
     ]
    }
   ],
   "source": [
    "import pandas as pd\n",
    "\n",
    "import numpy as np \n",
    "\n",
    "mail = pd.read_csv(\"d:\\data\\\\mail_naive.csv\")\n",
    "\n",
    "x=np.array(mail[\"mail_type\"])\n",
    "y=np.array(mail[\"viagra_yn\"])\n",
    "\n",
    "ct = pd.crosstab(x, y, rownames = ['x'], colnames = ['y'], margins=True)\n",
    "print(ct)"
   ]
  },
  {
   "cell_type": "markdown",
   "metadata": {},
   "source": [
    "## 문제5. 위에서 78 을 출력하시오 ! "
   ]
  },
  {
   "cell_type": "code",
   "execution_count": 9,
   "metadata": {},
   "outputs": [
    {
     "name": "stdout",
     "output_type": "stream",
     "text": [
      "79\n"
     ]
    }
   ],
   "source": [
    "import pandas as pd\n",
    "\n",
    "import numpy as np \n",
    "\n",
    "mail = pd.read_csv(\"d:\\data\\\\mail_naive.csv\")\n",
    "\n",
    "x=np.array(mail[\"mail_type\"])\n",
    "y=np.array(mail[\"viagra_yn\"])\n",
    "\n",
    "ct = pd.crosstab(x, y, rownames = ['x'], colnames = ['y'], margins=True)\n",
    "\n",
    "print(ct['no']['ham'])"
   ]
  },
  {
   "cell_type": "markdown",
   "metadata": {},
   "source": [
    "## 문제6.  P(스팸 | 비아그라 )  ?"
   ]
  },
  {
   "cell_type": "code",
   "execution_count": 10,
   "metadata": {},
   "outputs": [
    {
     "name": "stdout",
     "output_type": "stream",
     "text": [
      "y     no  yes  All\n",
      "x                 \n",
      "ham   79    1   80\n",
      "spam  16    4   20\n",
      "All   95    5  100\n",
      "0.8000000000000002\n"
     ]
    }
   ],
   "source": [
    "import pandas as pd\n",
    "\n",
    "import numpy as np \n",
    "\n",
    "mail = pd.read_csv(\"d:\\data\\\\mail_naive.csv\")\n",
    "\n",
    "\n",
    "\n",
    "x=np.array(mail[\"mail_type\"])\n",
    "\n",
    "y=np.array(mail[\"viagra_yn\"])\n",
    "\n",
    "ct = pd.crosstab(x, y, rownames = ['x'], colnames = ['y'], margins=True)\n",
    "\n",
    "print(ct)\n",
    "\n",
    "\n",
    "\n",
    "a = ct['yes']['spam'] / ( ct['All']['spam'])  \n",
    "b = ct['All']['spam']/ct['All']['All'] \n",
    "c = ct['yes']['All']/ct['All']['All'] \n",
    "d = a * b / c \n",
    "\n",
    "print(d)"
   ]
  },
  {
   "cell_type": "markdown",
   "metadata": {},
   "source": [
    "## ■ 나이브 베이즈 알고리즘을 파이썬으로 구현하세요 ~ \n",
    "\n",
    "print(naivebayes())    \n",
    "\n",
    "오한이 있습니까 ? Y  \n",
    "콧물이 있습니까 ? N  \n",
    "두통이 있습니까? Mild  \n",
    "열이 있습니까 ? N  "
   ]
  },
  {
   "cell_type": "code",
   "execution_count": 11,
   "metadata": {},
   "outputs": [
    {
     "name": "stdout",
     "output_type": "stream",
     "text": [
      "오한이 있습니까?Y\n",
      "콧물이 있습니까?N\n",
      "두통이 있습니까?Mild\n",
      "열이 있습니까?N\n",
      "0.2568370986920333\n",
      "독감이 아닙니다.\n"
     ]
    }
   ],
   "source": [
    "import pandas as pd\n",
    "import numpy as np \n",
    "\n",
    "def naivebayes():\n",
    "    try:\n",
    "\n",
    "       a = input('오한이 있습니까?') \n",
    "       b = input('콧물이 있습니까?') \n",
    "       c = input('두통이 있습니까?') \n",
    "       d = input('열이 있습니까?') \n",
    "\n",
    "       flu = pd.read_csv(\"d:\\data\\\\flu.csv\")\n",
    "    \n",
    "       x_1 = np.array(flu['chills'])\n",
    "       x_2 = np.array(flu['runny_nose'])\n",
    "       x_3 = np.array(flu['headache'])\n",
    "       x_4 = np.array(flu['fever'])\n",
    "\n",
    "       y = np.array(flu[\"flue\"])\n",
    "\n",
    "        \n",
    "\n",
    "        \n",
    "\n",
    "       ct1 = pd.crosstab(y, x_1, rownames = ['Flue'], colnames = ['chills'], margins=True)\n",
    "       ct2 = pd.crosstab(y, x_2, rownames = ['Flue'], colnames = ['runny nose'], margins=True)\n",
    "       ct3 = pd.crosstab(y, x_3, rownames = ['Flue'], colnames = ['headache'], margins=True)\n",
    "       ct4 = pd.crosstab(y, x_4, rownames = ['Flue'], colnames = ['fever'], margins=True)\n",
    "\n",
    "       \n",
    "\n",
    "       tmp1 = ct1['N']['Y'] + ct1['Y']['Y']\n",
    "       tmp2 = (ct1[a]['Y']/tmp1) * (ct2[b]['Y']/tmp1) * (ct3[c]['Y']/tmp1) * (ct4[d]['Y']/tmp1)\n",
    "       tmp3 = (ct1['Y']['All']+ct1['N']['All']) / (ct1['N']['N'] + ct1['Y']['N'])\n",
    "\n",
    "       \n",
    "\n",
    "       tmp4 = ct1['All']['N']\n",
    "       tmp5 = (ct1[a]['Y']/tmp4) * (ct2[b]['Y']/tmp4) * (ct3[c]['Y']/tmp4) * (ct4[d]['Y']/tmp4)\n",
    "       tmp6 = (ct1['Y']['N']+ct1['N']['N']) / (ct1['N']['N'] + ct1['Y']['N'])\n",
    "\n",
    "       \n",
    "\n",
    "       answer1 = tmp2 * tmp3\n",
    "       answer2 = tmp5 * tmp6\n",
    "\n",
    "       \n",
    "\n",
    "       result = answer1 /(answer1+answer2)\n",
    "       print(result)\n",
    "\n",
    "       if result > 0.5:   \n",
    "           return '독감이 맞습니다.'\n",
    "\n",
    "       else:\n",
    "           return '독감이 아닙니다.'\n",
    "\n",
    "    except:\n",
    "        return '다시 입력하시오.'\n",
    "\n",
    "        \n",
    "\n",
    "print(naivebayes())"
   ]
  }
 ],
 "metadata": {
  "kernelspec": {
   "display_name": "Python 3",
   "language": "python",
   "name": "python3"
  },
  "language_info": {
   "codemirror_mode": {
    "name": "ipython",
    "version": 3
   },
   "file_extension": ".py",
   "mimetype": "text/x-python",
   "name": "python",
   "nbconvert_exporter": "python",
   "pygments_lexer": "ipython3",
   "version": "3.7.4"
  }
 },
 "nbformat": 4,
 "nbformat_minor": 2
}
