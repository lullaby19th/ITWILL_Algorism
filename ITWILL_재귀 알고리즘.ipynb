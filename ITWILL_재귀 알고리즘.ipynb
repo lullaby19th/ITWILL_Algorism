{
 "cells": [
  {
   "cell_type": "markdown",
   "metadata": {},
   "source": [
    "## 5. 재귀 알고리즘\n",
    "\n",
    "### 재귀 함수란?\n",
    "\n",
    "반복문 + 스택구조가 결합된 함수이다.\n",
    "\n",
    "__★★★ 후입선출(나중에 들어간게 먼저 나오는 구조) ★★★__\n",
    "\n",
    "\n",
    "### - 재귀 함수의 특징? (후입선출)\n",
    "\n",
    "재귀함수는 함수 내에서 다시 자신을 호출한 후 그 함수가 끝날때까지 함수 호출 이후의 명령문을 수행하지 않는다."
   ]
  },
  {
   "cell_type": "markdown",
   "metadata": {},
   "source": [
    "## 함수내에서 다른 함수를 호출하는 예제"
   ]
  },
  {
   "cell_type": "code",
   "execution_count": 2,
   "metadata": {},
   "outputs": [
    {
     "name": "stdout",
     "output_type": "stream",
     "text": [
      "11\n"
     ]
    }
   ],
   "source": [
    "def hap(a,b):\n",
    "    return (a+b)\n",
    "\n",
    "def gob(a,b):\n",
    "    return (a*b)\n",
    "    \n",
    "def hap_gob(a,b):\n",
    "    k = hap(a,b)\n",
    "    m = gob(a,b)\n",
    "    return k+m\n",
    "\n",
    "\n",
    "print(hap_gob(2,3))"
   ]
  },
  {
   "cell_type": "markdown",
   "metadata": {},
   "source": [
    "## 예제1. 구구단 2단을 출력하는 함수를 생성하시오!\n",
    "\n",
    "print(multi_talbe_2(9))\n",
    "\n",
    "2x1 = 2  \n",
    "2x2 = 2  \n",
    ".....  "
   ]
  },
  {
   "cell_type": "code",
   "execution_count": 5,
   "metadata": {},
   "outputs": [
    {
     "name": "stdout",
     "output_type": "stream",
     "text": [
      "2 x 1 = 2\n",
      "2 x 2 = 4\n",
      "2 x 3 = 6\n",
      "2 x 4 = 8\n",
      "2 x 5 = 10\n",
      "2 x 6 = 12\n",
      "2 x 7 = 14\n",
      "2 x 8 = 16\n",
      "2 x 9 = 18\n"
     ]
    }
   ],
   "source": [
    "# 재귀 함수 안쓰고 만들기\n",
    "\n",
    "def multi_table_2(a):\n",
    "    for i in range(1,a+1):\n",
    "        print('2 x', i , '=', 2*i)\n",
    "    \n",
    "multi_table_2(9)"
   ]
  },
  {
   "cell_type": "code",
   "execution_count": 6,
   "metadata": {},
   "outputs": [
    {
     "name": "stdout",
     "output_type": "stream",
     "text": [
      "end\n",
      "2 x 1 = 2\n",
      "2 x 2 = 4\n",
      "2 x 3 = 6\n",
      "2 x 4 = 8\n",
      "2 x 5 = 10\n",
      "2 x 6 = 12\n",
      "2 x 7 = 14\n",
      "2 x 8 = 16\n",
      "2 x 9 = 18\n"
     ]
    }
   ],
   "source": [
    "# 재귀 함수 써서 만들기\n",
    "\n",
    "def multi_table_2(a):\n",
    "    if a == 0 :\n",
    "        print('end')\n",
    "    else:\n",
    "        multi_table_2(a-1)\n",
    "        print('2 x', a , '=', 2*a)\n",
    "\n",
    "multi_table_2(9)"
   ]
  },
  {
   "cell_type": "markdown",
   "metadata": {},
   "source": [
    "## ※ 재귀함수의 장점\n",
    "\n",
    "1. 코드가 간결해진다.\n",
    "2. 루프문을 사용하지 않아도 된다.\n",
    "\n",
    "__단점:__ 가독성 & 느려질 수 있음.\n",
    "\n",
    "### ※ 재귀 함수 관련 링크\n",
    "\n",
    "http://cafe.daum.net/oracleoracle/Sbw9/371"
   ]
  },
  {
   "cell_type": "markdown",
   "metadata": {},
   "source": [
    "## 문제279. (재귀 사용하지 말고) 함수를 만들어서 1~5 까지의 합을 출력하시오!\n",
    "\n",
    "print(add_fun(5))"
   ]
  },
  {
   "cell_type": "code",
   "execution_count": 7,
   "metadata": {},
   "outputs": [
    {
     "name": "stdout",
     "output_type": "stream",
     "text": [
      "15\n"
     ]
    }
   ],
   "source": [
    "def add_fun(n):\n",
    "    total = 0\n",
    "    for i in range(1,n+1):\n",
    "        total += i\n",
    "    \n",
    "    return total\n",
    "\n",
    "print(add_fun(5))"
   ]
  },
  {
   "cell_type": "markdown",
   "metadata": {},
   "source": [
    "## 문제280. 위의 문제를 재귀함수를 써서 만들어보시오!"
   ]
  },
  {
   "cell_type": "code",
   "execution_count": 9,
   "metadata": {},
   "outputs": [
    {
     "name": "stdout",
     "output_type": "stream",
     "text": [
      "15\n"
     ]
    }
   ],
   "source": [
    "def add_fun(n):\n",
    "    if n == 1:\n",
    "        return n\n",
    "    else:\n",
    "        return n + add_fun(n-1)\n",
    "\n",
    "print(add_fun(5))"
   ]
  }
 ],
 "metadata": {
  "kernelspec": {
   "display_name": "Python 3",
   "language": "python",
   "name": "python3"
  },
  "language_info": {
   "codemirror_mode": {
    "name": "ipython",
    "version": 3
   },
   "file_extension": ".py",
   "mimetype": "text/x-python",
   "name": "python",
   "nbconvert_exporter": "python",
   "pygments_lexer": "ipython3",
   "version": "3.7.4"
  }
 },
 "nbformat": 4,
 "nbformat_minor": 2
}
