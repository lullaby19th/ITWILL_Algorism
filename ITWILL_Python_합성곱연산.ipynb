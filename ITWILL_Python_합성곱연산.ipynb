{
 "cells": [
  {
   "cell_type": "markdown",
   "metadata": {},
   "source": [
    "## ■ 합성곱 연산(week1)\n",
    "\n",
    "### Tip. numpy 모듈의 장점?\n",
    "\n",
    "1. 행렬 연산을 쉽고 빠르게 처리가 가능하다 (fast & easy)\n",
    "2. for문을 적게사용 할 수 있다."
   ]
  },
  {
   "cell_type": "markdown",
   "metadata": {},
   "source": [
    "## ■ 문제. 다음 합성곱을 파이썬으로 구현하시오 .\n",
    "\n",
    "x = np.array([[1,2,3,0], [0,1,2,3], [3,0,1,2], [2,3,0,1]])\n",
    "\n",
    "filter = np.array([[2,0,1], [0,1,2], [1,0,2]])\n",
    "\n",
    "result = np.array([[15,16],[6,15]])"
   ]
  },
  {
   "cell_type": "code",
   "execution_count": 11,
   "metadata": {},
   "outputs": [
    {
     "name": "stdout",
     "output_type": "stream",
     "text": [
      "[[15. 16.]\n",
      " [ 6. 15.]]\n"
     ]
    }
   ],
   "source": [
    "# step1 . 일반적인 답 도출해보기\n",
    "\n",
    "import numpy as np # numpy 모듈 사용\n",
    "\n",
    "x = np.array([[1,2,3,0], [0,1,2,3], [3,0,1,2], [2,3,0,1]]) # 입력 값\n",
    "\n",
    "f = np.array([[2,0,1], [0,1,2], [1,0,2]]) # 출력 값\n",
    "\n",
    "\n",
    "x_h = len(x) # x의 행의 수 4\n",
    "x_w = len(x[0]) # x의 열의 수 4\n",
    "\n",
    "f_h = len(f) # filter의 행의 수 3\n",
    "f_w = len(f[0]) # filter의 열의 수 3\n",
    "\n",
    "c_h = len(x) - len(f) + 1         # 결과의 행의 수 2\n",
    "c_w = len(x[0]) - len(f[0]) + 1   # 결과의 열의 수 2\n",
    "\n",
    "c = np.zeros([c_h,c_w]) # np.zeros([행의수, 열의수]) --> 대괄호, 중괄호 잘보기!!!\n",
    "\n",
    "for i in range(c_h):\n",
    "    for j in range(c_w):\n",
    "        x_s = x[i:(i+f_h), j:(j+f_w)]\n",
    "        result = np.sum(x_s * f)\n",
    "        c[i][j] = result\n",
    "\n",
    "c = np.array(c).reshape(2,2)\n",
    "print(c)     "
   ]
  },
  {
   "cell_type": "code",
   "execution_count": 14,
   "metadata": {},
   "outputs": [
    {
     "name": "stdout",
     "output_type": "stream",
     "text": [
      "[[15. 16.]\n",
      " [ 6. 15.]]\n"
     ]
    }
   ],
   "source": [
    "# step2. def를 써서 답 표현해보기\n",
    "\n",
    "def my_convolution(x,f):\n",
    "\n",
    "    import numpy as np # numpy 모듈 사용\n",
    "\n",
    "    x_h = len(x) # x의 행의 수 4\n",
    "    x_w = len(x[0]) # x의 열의 수 4\n",
    "\n",
    "    f_h = len(f) # filter의 행의 수 3\n",
    "    f_w = len(f[0]) # filter의 열의 수 3\n",
    "\n",
    "    c_h = len(x) - len(f) + 1         # 결과의 행의 수 2\n",
    "    c_w = len(x[0]) - len(f[0]) + 1   # 결과의 열의 수 2\n",
    "\n",
    "    c = np.zeros([c_h,c_w]) # np.zeros([행의수, 열의수]) --> 대괄호, 중괄호 잘보기!!!\n",
    "\n",
    "    for i in range(c_h):\n",
    "        for j in range(c_w):\n",
    "            x_s = x[i:(i+f_h), j:(j+f_w)]\n",
    "            result = np.sum(x_s * f)\n",
    "            c[i][j] = result\n",
    "\n",
    "    c = np.array(c).reshape(2,2)\n",
    "    return c\n",
    "\n",
    "x = np.array([[1,2,3,0], [0,1,2,3], [3,0,1,2], [2,3,0,1]]) # 입력 값\n",
    "f = np.array([[2,0,1], [0,1,2], [1,0,2]]) # 출력 값\n",
    "\n",
    "print(my_convolution(x,f))"
   ]
  }
 ],
 "metadata": {
  "kernelspec": {
   "display_name": "Python 3",
   "language": "python",
   "name": "python3"
  },
  "language_info": {
   "codemirror_mode": {
    "name": "ipython",
    "version": 3
   },
   "file_extension": ".py",
   "mimetype": "text/x-python",
   "name": "python",
   "nbconvert_exporter": "python",
   "pygments_lexer": "ipython3",
   "version": "3.7.4"
  }
 },
 "nbformat": 4,
 "nbformat_minor": 2
}
