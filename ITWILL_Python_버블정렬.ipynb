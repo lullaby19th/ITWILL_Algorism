{
 "cells": [
  {
   "cell_type": "markdown",
   "metadata": {},
   "source": [
    "## ■ 알고리즘 버블정렬 (Week 3)\n",
    "\n",
    "### ※ 버블정렬이란 무엇인가 ?\n",
    "\n",
    "인접한 두 수를 비교해서 큰 수를 뒤로 보내는 정렬 방법이다.\n",
    "\n",
    "링크 : https://www.youtube.com/watch?v=L4U2i462Ozo"
   ]
  },
  {
   "cell_type": "markdown",
   "metadata": {},
   "source": [
    "## 버블정렬되는 과정을 출력하시오!\n",
    "\n",
    "a = [5, 4, 3, 2, 1, 8, 7, 10]"
   ]
  },
  {
   "cell_type": "code",
   "execution_count": 3,
   "metadata": {},
   "outputs": [
    {
     "name": "stdout",
     "output_type": "stream",
     "text": [
      "[4, 5, 3, 2, 1, 8, 7, 10]\n",
      "[4, 3, 5, 2, 1, 8, 7, 10]\n",
      "[4, 3, 2, 5, 1, 8, 7, 10]\n",
      "[4, 3, 2, 1, 5, 8, 7, 10]\n",
      "[4, 3, 2, 1, 5, 7, 8, 10]\n",
      "[3, 4, 2, 1, 5, 7, 8, 10]\n",
      "[3, 2, 4, 1, 5, 7, 8, 10]\n",
      "[3, 2, 1, 4, 5, 7, 8, 10]\n",
      "[2, 3, 1, 4, 5, 7, 8, 10]\n",
      "[2, 1, 3, 4, 5, 7, 8, 10]\n",
      "[1, 2, 3, 4, 5, 7, 8, 10]\n",
      "[1, 2, 3, 4, 5, 7, 8, 10]\n"
     ]
    }
   ],
   "source": [
    "#%% 버블정렬 코드\n",
    "\n",
    "a = [5, 4, 3, 2, 1, 8, 7, 10]\n",
    "\n",
    "for i in range(len(a)):\n",
    "    for j in range(len(a)-1):\n",
    "        if a[j] > a[j+1]:\n",
    "            temp1 = a[j]   # 큰값\n",
    "            temp2 = a[j+1] # 작은값\n",
    "            \n",
    "# 리스트 값들을 바꿔치기 할수있는 함수는 없으므로\n",
    "# 새로운 변수이름을 정해서 값을 저장해둠.\n",
    "            \n",
    "            a[j] = temp2 \n",
    "            a[j+1] = temp1\n",
    "            print(a)\n",
    "\n",
    "print(a)"
   ]
  },
  {
   "cell_type": "code",
   "execution_count": 8,
   "metadata": {},
   "outputs": [
    {
     "name": "stdout",
     "output_type": "stream",
     "text": [
      "[1, 2, 3, 4, 5, 7, 8, 10]\n"
     ]
    }
   ],
   "source": [
    "#%% 버블정렬 코드 def까지 써서 만들어보기\n",
    "\n",
    "def bubble_sort(a):\n",
    "    for i in range(len(a)):\n",
    "        for j in range(len(a)-1):\n",
    "            if a[j] > a[j+1]:\n",
    "                temp1 = a[j]   # 큰값\n",
    "                temp2 = a[j+1] # 작은값\n",
    "            \n",
    "                a[j] = temp2 \n",
    "                a[j+1] = temp1\n",
    "\n",
    "    return(a)\n",
    "\n",
    "a = [5, 4, 3, 2, 1, 8, 7, 10]\n",
    "print(bubble_sort(a))"
   ]
  },
  {
   "cell_type": "code",
   "execution_count": 10,
   "metadata": {},
   "outputs": [
    {
     "name": "stdout",
     "output_type": "stream",
     "text": [
      "몇개의 리스트를 만들건가요?100\n",
      "0부터 몇까지의 숫자를 범위로 정할건가요?100\n",
      "[0, 1, 5, 5, 5, 5, 7, 7, 8, 11, 11, 12, 14, 15, 16, 17, 20, 21, 22, 23, 23, 24, 24, 25, 26, 28, 28, 28, 30, 31, 32, 32, 32, 36, 36, 37, 37, 43, 43, 44, 44, 45, 46, 46, 46, 47, 47, 47, 47, 48, 48, 48, 49, 49, 50, 50, 50, 53, 54, 56, 56, 57, 57, 61, 64, 64, 64, 64, 64, 66, 68, 69, 69, 70, 70, 74, 75, 76, 77, 77, 78, 82, 82, 83, 84, 85, 85, 87, 89, 94, 94, 95, 95, 96, 96, 96, 96, 98, 100, 100]\n"
     ]
    }
   ],
   "source": [
    "#%% \n",
    "# Upgrade Final.ver\n",
    "# 어떠한 랜덤 list 자료형을 만들더라도 \n",
    "# '버블 정렬'이 가능하도록 만들어보기.\n",
    "\n",
    "def bubble_array():\n",
    "    import random\n",
    "    x = int(input('몇개의 리스트를 만들건가요?'))\n",
    "    y = int(input('0부터 몇까지의 숫자를 범위로 정할건가요?'))\n",
    "    a = [random.randint(0,y) for i in range(x)]\n",
    "    \n",
    "    for i in range(len(a)):\n",
    "        for j in range(len(a)-1):\n",
    "            if a[j] > a[j+1]:\n",
    "                temp1 = a[j]   # 큰값\n",
    "                temp2 = a[j+1] # 작은값\n",
    "                a[j] = temp2\n",
    "                a[j+1] = temp1\n",
    "                \n",
    "    return a\n",
    "print(bubble_array())"
   ]
  }
 ],
 "metadata": {
  "kernelspec": {
   "display_name": "Python 3",
   "language": "python",
   "name": "python3"
  },
  "language_info": {
   "codemirror_mode": {
    "name": "ipython",
    "version": 3
   },
   "file_extension": ".py",
   "mimetype": "text/x-python",
   "name": "python",
   "nbconvert_exporter": "python",
   "pygments_lexer": "ipython3",
   "version": "3.7.4"
  }
 },
 "nbformat": 4,
 "nbformat_minor": 2
}
