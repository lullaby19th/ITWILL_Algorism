{
 "cells": [
  {
   "cell_type": "markdown",
   "metadata": {},
   "source": [
    "## ■ AND 퍼셉트론 알고리즘 (December 13th)"
   ]
  },
  {
   "cell_type": "markdown",
   "metadata": {},
   "source": [
    "## ■ AND 퍼셉트론 알고리즘을 파이썬으로 구현하세요 ~\n",
    "\n",
    "insert1 = [-1,0,0]  \n",
    "insert2 = [-1,0,1]  \n",
    "insert3 = [-1,1,0]   \n",
    "insert4 = [-1,1,1]  \n",
    "\n",
    "t = [0,0,0,1]  \n",
    "\n",
    "w = [0.3,0.4,0.1]  \n",
    "\n",
    "r = 0.05  \n",
    "\n",
    "최종가중치 w = [0.4, 0.3, 0.1]  "
   ]
  },
  {
   "cell_type": "code",
   "execution_count": 5,
   "metadata": {},
   "outputs": [
    {
     "name": "stdout",
     "output_type": "stream",
     "text": [
      "[0, 0, 0, 1]\n",
      "[0.39999999999999997, 0.30000000000000004, 0.1]\n",
      "[0.4, 0.3, 0.1]\n"
     ]
    }
   ],
   "source": [
    "# t값을 리스형으로 도출해 내기 위한 과정\n",
    "def t_list(insert):\n",
    "    t = []\n",
    "    for i in range(len(insert)):\n",
    "        if 0 in insert[i]:\n",
    "            t.append(0)\n",
    "        else:\n",
    "            t.append(1)\n",
    "    \n",
    "    return t\n",
    "\n",
    "# 입력 1~4까지 and 퍼셉트론을 돌려주는 함수\n",
    "    \n",
    "def a_perceptron(insert,w,t):\n",
    "    for i in range(len(insert)):\n",
    "        k = 0\n",
    "        for j in range(len(insert[i])):\n",
    "            product = insert[i][j] * w[j]\n",
    "            \n",
    "            k += product \n",
    "        \n",
    "        \n",
    "        if k >= 0:\n",
    "            k_prime = 1\n",
    "        \n",
    "        else:\n",
    "            k_prime = 0\n",
    "        \n",
    "        \n",
    "        for j in range(len(w)):\n",
    "            w[j] = w[j] + insert[i][j] * 0.05 * (t[i]-k_prime)\n",
    "        \n",
    "    return w\n",
    "\n",
    "\n",
    "# 소수점으로 지저분하게 나오는 가중치 값을 round를 통해 깔끔하게 나타내는 함수\n",
    "def round_n(w):\n",
    "    w_r = []\n",
    "    for i in range(len(w)):\n",
    "        w_r.append(round(w[i],3))\n",
    "    return w_r\n",
    "\n",
    "insert1 = [-1,0,0]\n",
    "\n",
    "insert2 = [-1,0,1]\n",
    "\n",
    "insert3 = [-1,1,0]\n",
    "\n",
    "insert4 = [-1,1,1]\n",
    "\n",
    "w = [0.3,0.4,0.1]\n",
    "\n",
    "r = 0.05\n",
    "\n",
    "insert = [insert1,insert2,insert3,insert4] # insert1, insert2, insert3, insert4 를 하나의 리스트로 합치는 과정\n",
    "\n",
    "t = t_list(insert)\n",
    "print(t)\n",
    "\n",
    "import copy\n",
    "\n",
    "while True:\n",
    "    first_w = copy.deepcopy(w) \n",
    "    last_w =  a_perceptron(insert,w,t)\n",
    "    \n",
    "    # 그냥 변수명으로 저장하면 주소값으로 저장되기 때문에 w가 바뀌면 startw도 같이 바뀌어버린다.\n",
    "    # 그러므로 copy.deepcopy(w)를 통해 새로운 공간을 만들어 저장을 해주어야 한다.\n",
    "        \n",
    "    if first_w == last_w: \n",
    "    # 변하기 전의 가중치(first_w)와 변한 후의 가중치(last_w)가 같으면 무한루프를 빠져 나온다.\n",
    "        break\n",
    "    \n",
    "print(w)\n",
    "\n",
    "print(round_n(w))"
   ]
  }
 ],
 "metadata": {
  "kernelspec": {
   "display_name": "Python 3",
   "language": "python",
   "name": "python3"
  },
  "language_info": {
   "codemirror_mode": {
    "name": "ipython",
    "version": 3
   },
   "file_extension": ".py",
   "mimetype": "text/x-python",
   "name": "python",
   "nbconvert_exporter": "python",
   "pygments_lexer": "ipython3",
   "version": "3.7.4"
  }
 },
 "nbformat": 4,
 "nbformat_minor": 2
}
