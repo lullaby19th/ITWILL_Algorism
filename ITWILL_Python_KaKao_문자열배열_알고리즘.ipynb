{
 "cells": [
  {
   "cell_type": "code",
   "execution_count": 1,
   "metadata": {},
   "outputs": [
    {
     "name": "stdout",
     "output_type": "stream",
     "text": [
      "-4\n"
     ]
    }
   ],
   "source": [
    "# 카카오 문자열 처리 알고리즘 일반 version1\n",
    "\n",
    "d = '1T2D3D#'\n",
    "n = [str(i) for i in range(10)]\n",
    "a = ['S', 'D', 'T']\n",
    "s = ['*', '#']\n",
    "\n",
    "li = []\n",
    "answer = 0\n",
    "tmp1 = ''\n",
    "\n",
    "for i in range(len(d)):\n",
    "    if d[i] in n:\n",
    "        tmp1 += d[i]\n",
    "    \n",
    "    elif d[i] in a:\n",
    "        num = int(tmp1)\n",
    "        \n",
    "        if d[i] == 'S':\n",
    "            tmp2 = num**1\n",
    "            \n",
    "        elif d[i] == 'D':\n",
    "            tmp2 = num**2\n",
    "\n",
    "        elif d[i] == 'T':\n",
    "            tmp2 = num**3       \n",
    "        tmp1 = ''\n",
    "        li.append(tmp2)\n",
    "        \n",
    "    elif d[i] == '*':\n",
    "        if len(li) >= 2:\n",
    "            li[len(li)-2] = li[len(li)-2] * 2\n",
    "            li[len(li)-1] = li[len(li)-1] * 2\n",
    "        else:\n",
    "            li[len(li)-1] = li[len(li)-1] * 2\n",
    "        \n",
    "    elif d[i] == '#':\n",
    "        li[len(li)-1] = li[len(li)-1] * (-1)\n",
    "        \n",
    "for i in li:\n",
    "    answer += i\n",
    "    \n",
    "print(answer)"
   ]
  },
  {
   "cell_type": "code",
   "execution_count": 2,
   "metadata": {},
   "outputs": [
    {
     "name": "stdout",
     "output_type": "stream",
     "text": [
      "37\n"
     ]
    }
   ],
   "source": [
    "def solution(dartResult):\n",
    "    answer = 0\n",
    "    n = [str(i) for i in range(10)]\n",
    "    a = ['S', 'D', 'T']\n",
    "    li = []\n",
    "\n",
    "    tmp1 = ''\n",
    "    for i in range(len(dartResult)):\n",
    "        if dartResult[i] in n:\n",
    "            tmp1 += dartResult[i]\n",
    "            \n",
    "        elif dartResult[i] in a:\n",
    "            num = int(tmp1)\n",
    "            if dartResult[i] == 'S':\n",
    "                result = num**1\n",
    "                \n",
    "            elif dartResult[i] == 'D':\n",
    "                result = num**2\n",
    "    \n",
    "            elif dartResult[i] == 'T':\n",
    "                result = num**3   \n",
    "                \n",
    "            tmp1 = ''\n",
    "            li.append(result)\n",
    "            \n",
    "        elif dartResult[i] == '*':\n",
    "            if len(li) >= 2:\n",
    "                li[len(li)-2] = li[len(li)-2] * 2\n",
    "                li[len(li)-1] = li[len(li)-1] * 2\n",
    "            else:\n",
    "                li[len(li)-1] = li[len(li)-1] * 2\n",
    "            \n",
    "        elif dartResult[i] == '#':\n",
    "            li[len(li)-1] = li[len(li)-1] * (-1)\n",
    "            \n",
    "    for i in li:\n",
    "        answer += i\n",
    "        \n",
    "    return answer\n",
    "\n",
    "dartResult = '1S2D*3T'\n",
    "print(solution(dartResult))"
   ]
  }
 ],
 "metadata": {
  "kernelspec": {
   "display_name": "Python 3",
   "language": "python",
   "name": "python3"
  },
  "language_info": {
   "codemirror_mode": {
    "name": "ipython",
    "version": 3
   },
   "file_extension": ".py",
   "mimetype": "text/x-python",
   "name": "python",
   "nbconvert_exporter": "python",
   "pygments_lexer": "ipython3",
   "version": "3.7.4"
  }
 },
 "nbformat": 4,
 "nbformat_minor": 2
}
